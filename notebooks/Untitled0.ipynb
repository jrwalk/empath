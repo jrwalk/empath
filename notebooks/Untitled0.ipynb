{
 "metadata": {
  "name": ""
 },
 "nbformat": 3,
 "nbformat_minor": 0,
 "worksheets": [
  {
   "cells": [
    {
     "cell_type": "code",
     "collapsed": false,
     "input": [
      "from chunker import train_classifier\n",
      "from word_count import tokenize\n",
      "cl = train_classifier()"
     ],
     "language": "python",
     "metadata": {},
     "outputs": [],
     "prompt_number": 1
    },
    {
     "cell_type": "code",
     "collapsed": false,
     "input": [
      "text = \"Hey guys, I just thought I'd share with you my experience with WellbutrinXL 24 hour 150mg antidepressants and ask your opinions on this drug.Just the other night I was here posting about how shitty I felt and how thoughts of suicide kept creeping into my mind. Recently I started taking Wellbutrin in the morning, and holy shit. I haven't felt this good in a really long time. Things dont bother me nearly as much, and I'm 100X more productive. I dont have trouble getting out of bed in the morning anymore and I'm actually eager to go about my day, a feeling I haven't had in months.  I don't even really know why I'm posting this, I guess I'm just so psyched about this that I wanted to share it with you guys. Does anyone here take Wellbutrin or previously taken it? I feel great, but I'm slightly worried about the long list of side effects. Thoughts?\""
     ],
     "language": "python",
     "metadata": {},
     "outputs": [],
     "prompt_number": 4
    },
    {
     "cell_type": "code",
     "collapsed": false,
     "input": [
      "text"
     ],
     "language": "python",
     "metadata": {},
     "outputs": [
      {
       "metadata": {},
       "output_type": "pyout",
       "prompt_number": 5,
       "text": [
        "\"Hey guys, I just thought I'd share with you my experience with WellbutrinXL 24 hour 150mg antidepressants and ask your opinions on this drug.Just the other night I was here posting about how shitty I felt and how thoughts of suicide kept creeping into my mind. Recently I started taking Wellbutrin in the morning, and holy shit. I haven't felt this good in a really long time. Things dont bother me nearly as much, and I'm 100X more productive. I dont have trouble getting out of bed in the morning anymore and I'm actually eager to go about my day, a feeling I haven't had in months.  I don't even really know why I'm posting this, I guess I'm just so psyched about this that I wanted to share it with you guys. Does anyone here take Wellbutrin or previously taken it? I feel great, but I'm slightly worried about the long list of side effects. Thoughts?\""
       ]
      }
     ],
     "prompt_number": 5
    },
    {
     "cell_type": "code",
     "collapsed": false,
     "input": [
      "tokens = tokenize(text,'wellbutrin',False,True)"
     ],
     "language": "python",
     "metadata": {},
     "outputs": [],
     "prompt_number": 6
    },
    {
     "cell_type": "code",
     "collapsed": false,
     "input": [
      "tokens"
     ],
     "language": "python",
     "metadata": {},
     "outputs": [
      {
       "metadata": {},
       "output_type": "pyout",
       "prompt_number": 7,
       "text": [
        "['hey',\n",
        " u'guy',\n",
        " u'think',\n",
        " 'd',\n",
        " 'share',\n",
        " 'experience',\n",
        " 'wellbutrinxl',\n",
        " '24',\n",
        " 'hour',\n",
        " '150mg',\n",
        " 'ask',\n",
        " u'opinion',\n",
        " 'night',\n",
        " u'post',\n",
        " 'shitty',\n",
        " 'felt',\n",
        " u'thought',\n",
        " 'suicide',\n",
        " u'keep',\n",
        " u'creep',\n",
        " 'mind',\n",
        " 'recently',\n",
        " 'morning',\n",
        " 'holy',\n",
        " 'shit',\n",
        " 'haven',\n",
        " 'felt',\n",
        " 'good',\n",
        " 'long',\n",
        " 'time',\n",
        " 'dont',\n",
        " 'bother',\n",
        " 'nearly',\n",
        " '100x',\n",
        " 'productive',\n",
        " 'dont',\n",
        " 'trouble',\n",
        " 'bed',\n",
        " 'morning',\n",
        " 'anymore',\n",
        " 'actually',\n",
        " 'eager',\n",
        " 'go',\n",
        " 'day',\n",
        " u'feel',\n",
        " 'haven',\n",
        " u'month',\n",
        " 'even',\n",
        " 'know',\n",
        " u'post',\n",
        " 'guess',\n",
        " 'psyched',\n",
        " u'want',\n",
        " 'share',\n",
        " u'guy',\n",
        " 'anyone',\n",
        " 'previously',\n",
        " 'feel',\n",
        " 'great',\n",
        " 'slightly',\n",
        " u'worry',\n",
        " 'long',\n",
        " 'list',\n",
        " u'side_effect',\n",
        " u'thought']"
       ]
      }
     ],
     "prompt_number": 7
    },
    {
     "cell_type": "code",
     "collapsed": false,
     "input": [
      "cl.classify(dict([(word,True) for word in tokens]))"
     ],
     "language": "python",
     "metadata": {},
     "outputs": [
      {
       "metadata": {},
       "output_type": "pyout",
       "prompt_number": 8,
       "text": [
        "'neg'"
       ]
      }
     ],
     "prompt_number": 8
    },
    {
     "cell_type": "code",
     "collapsed": false,
     "input": [
      "cl.prob_classify(dict([(word,True) for word in tokens])).prob('pos')"
     ],
     "language": "python",
     "metadata": {},
     "outputs": [
      {
       "metadata": {},
       "output_type": "pyout",
       "prompt_number": 9,
       "text": [
        "0.4061024992671394"
       ]
      }
     ],
     "prompt_number": 9
    },
    {
     "cell_type": "code",
     "collapsed": false,
     "input": [
      "res = cl.prob_classify(dict([(word,True) for word in tokens]))"
     ],
     "language": "python",
     "metadata": {},
     "outputs": [],
     "prompt_number": 10
    },
    {
     "cell_type": "code",
     "collapsed": false,
     "input": [
      "res.prob('pos')"
     ],
     "language": "python",
     "metadata": {},
     "outputs": [
      {
       "metadata": {},
       "output_type": "pyout",
       "prompt_number": 11,
       "text": [
        "0.4061024992671394"
       ]
      }
     ],
     "prompt_number": 11
    },
    {
     "cell_type": "code",
     "collapsed": false,
     "input": [
      "from nltk.tokenize.punkt import PunktSentenceTokenizer"
     ],
     "language": "python",
     "metadata": {},
     "outputs": [],
     "prompt_number": 12
    },
    {
     "cell_type": "code",
     "collapsed": false,
     "input": [
      "t=PunktSentenceTokenizer()"
     ],
     "language": "python",
     "metadata": {},
     "outputs": [],
     "prompt_number": 13
    },
    {
     "cell_type": "code",
     "collapsed": false,
     "input": [
      "t.tokenize(text)"
     ],
     "language": "python",
     "metadata": {},
     "outputs": [
      {
       "metadata": {},
       "output_type": "pyout",
       "prompt_number": 14,
       "text": [
        "[\"Hey guys, I just thought I'd share with you my experience with WellbutrinXL 24 hour 150mg antidepressants and ask your opinions on this drug.Just the other night I was here posting about how shitty I felt and how thoughts of suicide kept creeping into my mind.\",\n",
        " 'Recently I started taking Wellbutrin in the morning, and holy shit.',\n",
        " \"I haven't felt this good in a really long time.\",\n",
        " \"Things dont bother me nearly as much, and I'm 100X more productive.\",\n",
        " \"I dont have trouble getting out of bed in the morning anymore and I'm actually eager to go about my day, a feeling I haven't had in months.\",\n",
        " \"I don't even really know why I'm posting this, I guess I'm just so psyched about this that I wanted to share it with you guys.\",\n",
        " 'Does anyone here take Wellbutrin or previously taken it?',\n",
        " \"I feel great, but I'm slightly worried about the long list of side effects.\",\n",
        " 'Thoughts?']"
       ]
      }
     ],
     "prompt_number": 14
    },
    {
     "cell_type": "code",
     "collapsed": false,
     "input": [
      "sents = []\n",
      "for s in t.tokenize(text):\n",
      "    sent = cl.prob_classify(dict([(word,True) for word in tokenize(s)])).prob('pos')\n",
      "    sents.append(sent)"
     ],
     "language": "python",
     "metadata": {},
     "outputs": [],
     "prompt_number": 17
    },
    {
     "cell_type": "code",
     "collapsed": false,
     "input": [
      "import numpy"
     ],
     "language": "python",
     "metadata": {},
     "outputs": [],
     "prompt_number": 18
    },
    {
     "cell_type": "code",
     "collapsed": false,
     "input": [
      "sents = numpy.array(sents)"
     ],
     "language": "python",
     "metadata": {},
     "outputs": [],
     "prompt_number": 19
    },
    {
     "cell_type": "code",
     "collapsed": false,
     "input": [
      "numpy.mean(sents)"
     ],
     "language": "python",
     "metadata": {},
     "outputs": [
      {
       "metadata": {},
       "output_type": "pyout",
       "prompt_number": 21,
       "text": [
        "0.50960440010246855"
       ]
      }
     ],
     "prompt_number": 21
    },
    {
     "cell_type": "code",
     "collapsed": false,
     "input": [],
     "language": "python",
     "metadata": {},
     "outputs": []
    }
   ],
   "metadata": {}
  }
 ]
}