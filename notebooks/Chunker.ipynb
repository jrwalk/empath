{
 "metadata": {
  "name": ""
 },
 "nbformat": 3,
 "nbformat_minor": 0,
 "worksheets": [
  {
   "cells": [
    {
     "cell_type": "heading",
     "level": 1,
     "metadata": {},
     "source": [
      "Text Parsing: Chunking and Topics"
     ]
    },
    {
     "cell_type": "markdown",
     "metadata": {},
     "source": [
      "most of our comments are multi-sentence and fairly grammatically complex.  We need to break them down topically and syntactically, particularly in cases where the comments are talking about multiple drugs."
     ]
    },
    {
     "cell_type": "markdown",
     "metadata": {},
     "source": [
      "start with just piling in all the tools we might need."
     ]
    },
    {
     "cell_type": "code",
     "collapsed": false,
     "input": [
      "import nltk\n",
      "import textblob\n",
      "import gensim\n",
      "import lda\n",
      "import re"
     ],
     "language": "python",
     "metadata": {},
     "outputs": [],
     "prompt_number": 1
    },
    {
     "cell_type": "markdown",
     "metadata": {},
     "source": [
      "start with a good-but-simple example text:"
     ]
    },
    {
     "cell_type": "code",
     "collapsed": false,
     "input": [
      "text = \"Zoloft fucked up my dick and made me think about suicide a lot. Lexapro is perfect. I feel normal and wang works very well.\""
     ],
     "language": "python",
     "metadata": {},
     "outputs": [],
     "prompt_number": 2
    },
    {
     "cell_type": "code",
     "collapsed": false,
     "input": [
      "sentence_tokenizer = textblob.tokenizers.SentenceTokenizer()\n",
      "sentences = sentence_tokenizer.tokenize(text)"
     ],
     "language": "python",
     "metadata": {},
     "outputs": [],
     "prompt_number": 3
    },
    {
     "cell_type": "code",
     "collapsed": false,
     "input": [
      "sentences"
     ],
     "language": "python",
     "metadata": {},
     "outputs": [
      {
       "metadata": {},
       "output_type": "pyout",
       "prompt_number": 4,
       "text": [
        "['Zoloft fucked up my dick and made me think about suicide a lot.',\n",
        " 'Lexapro is perfect.',\n",
        " 'I feel normal and wang works very well.']"
       ]
      }
     ],
     "prompt_number": 4
    },
    {
     "cell_type": "markdown",
     "metadata": {},
     "source": [
      "ok, so textblob sentence parser is nice and easy (built on nltk's Punkt sentence parser, so it should intelligently handle abbreviations?)"
     ]
    },
    {
     "cell_type": "code",
     "collapsed": false,
     "input": [
      "tokens = [re.findall('\\w+',sentence) for sentence in sentences]"
     ],
     "language": "python",
     "metadata": {},
     "outputs": [],
     "prompt_number": 5
    },
    {
     "cell_type": "code",
     "collapsed": false,
     "input": [
      "tokens"
     ],
     "language": "python",
     "metadata": {},
     "outputs": [
      {
       "metadata": {},
       "output_type": "pyout",
       "prompt_number": 6,
       "text": [
        "[['Zoloft',\n",
        "  'fucked',\n",
        "  'up',\n",
        "  'my',\n",
        "  'dick',\n",
        "  'and',\n",
        "  'made',\n",
        "  'me',\n",
        "  'think',\n",
        "  'about',\n",
        "  'suicide',\n",
        "  'a',\n",
        "  'lot'],\n",
        " ['Lexapro', 'is', 'perfect'],\n",
        " ['I', 'feel', 'normal', 'and', 'wang', 'works', 'very', 'well']]"
       ]
      }
     ],
     "prompt_number": 6
    },
    {
     "cell_type": "markdown",
     "metadata": {},
     "source": [
      "ok so we have our tokens now too, for each sentence.  (Can get fancier with the tokenization if we want).  Let's try sentiment analysis."
     ]
    },
    {
     "cell_type": "code",
     "collapsed": false,
     "input": [
      "allblob = textblob.TextBlob(text)"
     ],
     "language": "python",
     "metadata": {},
     "outputs": [],
     "prompt_number": 7
    },
    {
     "cell_type": "code",
     "collapsed": false,
     "input": [
      "allblob.sentiment"
     ],
     "language": "python",
     "metadata": {},
     "outputs": [
      {
       "metadata": {},
       "output_type": "pyout",
       "prompt_number": 8,
       "text": [
        "Sentiment(polarity=0.1875, subjectivity=0.6624999999999999)"
       ]
      }
     ],
     "prompt_number": 8
    },
    {
     "cell_type": "markdown",
     "metadata": {},
     "source": [
      "so it thinks the sentiment of the text is very neutral, which is to be expected."
     ]
    },
    {
     "cell_type": "code",
     "collapsed": false,
     "input": [
      "sentblobs = [textblob.TextBlob(sentence) for sentence in sentences]"
     ],
     "language": "python",
     "metadata": {},
     "outputs": [],
     "prompt_number": 9
    },
    {
     "cell_type": "code",
     "collapsed": false,
     "input": [
      "[blob.sentiment for blob in sentblobs]"
     ],
     "language": "python",
     "metadata": {},
     "outputs": [
      {
       "metadata": {},
       "output_type": "pyout",
       "prompt_number": 10,
       "text": [
        "[Sentiment(polarity=-0.6, subjectivity=0.7),\n",
        " Sentiment(polarity=1.0, subjectivity=1.0),\n",
        " Sentiment(polarity=0.175, subjectivity=0.475)]"
       ]
      }
     ],
     "prompt_number": 10
    },
    {
     "cell_type": "markdown",
     "metadata": {},
     "source": [
      "correctly identifies the sentiments of individual sentences.  How to merge sentences around drug mentions?  Can we do multi-sentence structure?"
     ]
    },
    {
     "cell_type": "code",
     "collapsed": false,
     "input": [
      "allblob.noun_phrases"
     ],
     "language": "python",
     "metadata": {},
     "outputs": [
      {
       "metadata": {},
       "output_type": "pyout",
       "prompt_number": 11,
       "text": [
        "WordList(['zoloft', 'lexapro'])"
       ]
      }
     ],
     "prompt_number": 11
    },
    {
     "cell_type": "markdown",
     "metadata": {},
     "source": [
      "not so useful."
     ]
    },
    {
     "cell_type": "code",
     "collapsed": false,
     "input": [
      "sentblobs"
     ],
     "language": "python",
     "metadata": {},
     "outputs": [
      {
       "metadata": {},
       "output_type": "pyout",
       "prompt_number": 12,
       "text": [
        "[TextBlob(\"Zoloft fucked up my dick and made me think about suicide a lot.\"),\n",
        " TextBlob(\"Lexapro is perfect.\"),\n",
        " TextBlob(\"I feel normal and wang works very well.\")]"
       ]
      }
     ],
     "prompt_number": 12
    },
    {
     "cell_type": "code",
     "collapsed": false,
     "input": [
      "drugs = ['zoloft','lexapro'] # can get list of mentioned drugs fairly easily from SQL, I think."
     ],
     "language": "python",
     "metadata": {},
     "outputs": [],
     "prompt_number": 13
    },
    {
     "cell_type": "code",
     "collapsed": false,
     "input": [
      "for blob in sentblobs:\n",
      "    print [drug in blob.lower() for drug in drugs]"
     ],
     "language": "python",
     "metadata": {},
     "outputs": [
      {
       "output_type": "stream",
       "stream": "stdout",
       "text": [
        "[True, False]\n",
        "[False, True]\n",
        "[False, False]\n"
       ]
      }
     ],
     "prompt_number": 14
    },
    {
     "cell_type": "code",
     "collapsed": false,
     "input": [
      "%%timeit\n",
      "'zoloft' in allblob.lower()"
     ],
     "language": "python",
     "metadata": {},
     "outputs": [
      {
       "output_type": "stream",
       "stream": "stdout",
       "text": [
        "100000 loops, best of 3: 8.46 \u00b5s per loop\n"
       ]
      }
     ],
     "prompt_number": 15
    },
    {
     "cell_type": "code",
     "collapsed": false,
     "input": [
      "%%timeit\n",
      "'zoloft' in text.lower()"
     ],
     "language": "python",
     "metadata": {},
     "outputs": [
      {
       "output_type": "stream",
       "stream": "stdout",
       "text": [
        "1000000 loops, best of 3: 218 ns per loop\n"
       ]
      }
     ],
     "prompt_number": 16
    },
    {
     "cell_type": "markdown",
     "metadata": {},
     "source": [
      "so string searching in the textblob is rather slower than straight string-searching..."
     ]
    },
    {
     "cell_type": "code",
     "collapsed": false,
     "input": [
      "%%timeit\n",
      "'Zoloft' in allblob"
     ],
     "language": "python",
     "metadata": {},
     "outputs": [
      {
       "output_type": "stream",
       "stream": "stdout",
       "text": [
        "1000000 loops, best of 3: 392 ns per loop\n"
       ]
      }
     ],
     "prompt_number": 17
    },
    {
     "cell_type": "code",
     "collapsed": false,
     "input": [
      "%%timeit\n",
      "'Zoloft' in text"
     ],
     "language": "python",
     "metadata": {},
     "outputs": [
      {
       "output_type": "stream",
       "stream": "stdout",
       "text": [
        "10000000 loops, best of 3: 53.3 ns per loop\n"
       ]
      }
     ],
     "prompt_number": 18
    },
    {
     "cell_type": "markdown",
     "metadata": {},
     "source": [
      "straight string searching is still faster."
     ]
    },
    {
     "cell_type": "code",
     "collapsed": false,
     "input": [
      "%%timeit\n",
      "['Zoloft' in sentence for sentence in sentences]"
     ],
     "language": "python",
     "metadata": {},
     "outputs": [
      {
       "output_type": "stream",
       "stream": "stdout",
       "text": [
        "1000000 loops, best of 3: 307 ns per loop\n"
       ]
      }
     ],
     "prompt_number": 19
    },
    {
     "cell_type": "code",
     "collapsed": false,
     "input": [
      "%%timeit\n",
      "['Zoloft' in blob for blob in sentblobs]"
     ],
     "language": "python",
     "metadata": {},
     "outputs": [
      {
       "output_type": "stream",
       "stream": "stdout",
       "text": [
        "1000000 loops, best of 3: 1.39 \u00b5s per loop\n"
       ]
      }
     ],
     "prompt_number": 20
    },
    {
     "cell_type": "markdown",
     "metadata": {},
     "source": [
      "so string searching seems to be faster across the board.  We'll implement this at the sentence-chunked level to build a map of drug mentions in each sentence."
     ]
    },
    {
     "cell_type": "code",
     "collapsed": false,
     "input": [
      "mentions = []\n",
      "for sent in sentences:\n",
      "    mentions.append([drug in sent.lower() for drug in drugs])\n",
      "mentions"
     ],
     "language": "python",
     "metadata": {},
     "outputs": [
      {
       "metadata": {},
       "output_type": "pyout",
       "prompt_number": 21,
       "text": [
        "[[True, False], [False, True], [False, False]]"
       ]
      }
     ],
     "prompt_number": 21
    },
    {
     "cell_type": "markdown",
     "metadata": {},
     "source": [
      "cleverer mapping?"
     ]
    },
    {
     "cell_type": "code",
     "collapsed": false,
     "input": [
      "mentions = []\n",
      "for sent in sentences:\n",
      "    sentmap = []\n",
      "    for i,drug in enumerate(drugs):\n",
      "        if drug in sent.lower():\n",
      "            sentmap.append(i)\n",
      "    mentions.append(sentmap)\n",
      "mentions"
     ],
     "language": "python",
     "metadata": {},
     "outputs": [
      {
       "metadata": {},
       "output_type": "pyout",
       "prompt_number": 22,
       "text": [
        "[[0], [1], []]"
       ]
      }
     ],
     "prompt_number": 22
    },
    {
     "cell_type": "markdown",
     "metadata": {},
     "source": [
      "so this gives us an index on <code>drugs</code> for each sentence, and we can detect sentences that have no mentions / how many mentions per sentence."
     ]
    },
    {
     "cell_type": "code",
     "collapsed": false,
     "input": [
      "drugtexts = {}\n",
      "lastdrug = 'overall'\n",
      "for i,sent in enumerate(sentblobs):\n",
      "    dms = mentions[i]\n",
      "    if len(dms) == 1:\n",
      "        lastdrug = drugs[dms[0]]\n",
      "    if lastdrug in drugtexts.keys():\n",
      "        drugtexts[lastdrug].append(sent)\n",
      "    else:\n",
      "        drugtexts[lastdrug] = [sent]"
     ],
     "language": "python",
     "metadata": {},
     "outputs": [],
     "prompt_number": 23
    },
    {
     "cell_type": "code",
     "collapsed": false,
     "input": [
      "drugtexts"
     ],
     "language": "python",
     "metadata": {},
     "outputs": [
      {
       "metadata": {},
       "output_type": "pyout",
       "prompt_number": 24,
       "text": [
        "{'lexapro': [TextBlob(\"Lexapro is perfect.\"),\n",
        "  TextBlob(\"I feel normal and wang works very well.\")],\n",
        " 'zoloft': [TextBlob(\"Zoloft fucked up my dick and made me think about suicide a lot.\")]}"
       ]
      }
     ],
     "prompt_number": 24
    },
    {
     "cell_type": "code",
     "collapsed": false,
     "input": [
      "drugtexts_merged = {}\n",
      "for drug in drugtexts.keys():\n",
      "    textblobs = drugtexts[drug]\n",
      "    mergedblob = textblob.TextBlob('')\n",
      "    for blob in textblobs:\n",
      "        mergedblob += blob\n",
      "    drugtexts_merged[drug] = mergedblob"
     ],
     "language": "python",
     "metadata": {},
     "outputs": [],
     "prompt_number": 25
    },
    {
     "cell_type": "code",
     "collapsed": false,
     "input": [
      "for drug in drugtexts_merged:\n",
      "    print drugtexts_merged[drug],drugtexts_merged[drug].sentiment"
     ],
     "language": "python",
     "metadata": {},
     "outputs": [
      {
       "output_type": "stream",
       "stream": "stdout",
       "text": [
        "Zoloft fucked up my dick and made me think about suicide a lot. Sentiment(polarity=-0.6, subjectivity=0.7)\n",
        "Lexapro is perfect.I feel normal and wang works very well. Sentiment(polarity=0.175, subjectivity=0.475)\n"
       ]
      }
     ],
     "prompt_number": 26
    },
    {
     "cell_type": "markdown",
     "metadata": {},
     "source": [
      "so we can break down on sentences, merge blobs, score sentiments for each (though the scoring for the latter one above is odd... since the term 'perfect' appears you'd expect it to score quite highly (that sentence alone scored polarity=1) but the merged sentence scores lower.  Take average of individual sentences rather than sentiment of merged sentence?"
     ]
    },
    {
     "cell_type": "code",
     "collapsed": false,
     "input": [
      "hardertext = u'I take both Wellbutrin and Celexa, 300mg/30mg respectively. Originally I was just taking Celexa but I hit a slump where I had no energy or motivation to get out of bed, then was prescribed Wellbutrin. It definitely gave me back the energy I was missing. Although if I miss my dose for a day my life is hell, instantly suicidal. Good luck!'"
     ],
     "language": "python",
     "metadata": {},
     "outputs": [],
     "prompt_number": 27
    },
    {
     "cell_type": "code",
     "collapsed": false,
     "input": [
      "hardertext = str(hardertext)\n",
      "hardertext"
     ],
     "language": "python",
     "metadata": {},
     "outputs": [
      {
       "metadata": {},
       "output_type": "pyout",
       "prompt_number": 28,
       "text": [
        "'I take both Wellbutrin and Celexa, 300mg/30mg respectively. Originally I was just taking Celexa but I hit a slump where I had no energy or motivation to get out of bed, then was prescribed Wellbutrin. It definitely gave me back the energy I was missing. Although if I miss my dose for a day my life is hell, instantly suicidal. Good luck!'"
       ]
      }
     ],
     "prompt_number": 28
    },
    {
     "cell_type": "markdown",
     "metadata": {},
     "source": [
      "On the simple text, we can assemble topic sets using simple sentence breaks.  On other texts, this isn't as easy... we need to be cleverer about how we breakdown the topics.  How?  Tree mapping?  Only use this if there's multiple mentions per sentence?  Skip these entirely?  We'd lose useful comments (like the above) but the code is easier.  Or are we barking up the wrong tree, and should let LDA do the topical grouping after all?"
     ]
    },
    {
     "cell_type": "code",
     "collapsed": false,
     "input": [
      "                                                                                                                                                                                                                                                                                                                                                                                                                                                                                                                                                                                                                                                                                                                                                                                                                                                                                harderblob = textblob.TextBlob(hardertext)\n",
      "harderblob.sentiment"
     ],
     "language": "python",
     "metadata": {},
     "outputs": [
      {
       "metadata": {},
       "output_type": "pyout",
       "prompt_number": 29,
       "text": [
        "Sentiment(polarity=0.17500000000000002, subjectivity=0.4277777777777778)"
       ]
      }
     ],
     "prompt_number": 29
    },
    {
     "cell_type": "code",
     "collapsed": false,
     "input": [
      "hardersentences = sentence_tokenizer.tokenize(hardertext)\n",
      "harderblobs = [textblob.TextBlob(sent) for sent in hardersentences]\n",
      "harderblobs"
     ],
     "language": "python",
     "metadata": {},
     "outputs": [
      {
       "metadata": {},
       "output_type": "pyout",
       "prompt_number": 30,
       "text": [
        "[TextBlob(\"I take both Wellbutrin and Celexa, 300mg/30mg respectively.\"),\n",
        " TextBlob(\"Originally I was just taking Celexa but I hit a slump where I had no energy or motivation to get out of bed, then was prescribed Wellbutrin.\"),\n",
        " TextBlob(\"It definitely gave me back the energy I was missing.\"),\n",
        " TextBlob(\"Although if I miss my dose for a day my life is hell, instantly suicidal.\"),\n",
        " TextBlob(\"Good luck!\")]"
       ]
      }
     ],
     "prompt_number": 30
    },
    {
     "cell_type": "code",
     "collapsed": false,
     "input": [
      "for bl in harderblobs:\n",
      "    print bl.sentiment"
     ],
     "language": "python",
     "metadata": {},
     "outputs": [
      {
       "output_type": "stream",
       "stream": "stdout",
       "text": [
        "Sentiment(polarity=0.0, subjectivity=0.1)\n",
        "Sentiment(polarity=0.375, subjectivity=0.75)\n",
        "Sentiment(polarity=-0.06666666666666667, subjectivity=0.18333333333333335)\n",
        "Sentiment(polarity=0.0, subjectivity=0.6666666666666666)\n",
        "Sentiment(polarity=0.875, subjectivity=0.6000000000000001)\n"
       ]
      }
     ],
     "prompt_number": 31
    },
    {
     "cell_type": "markdown",
     "metadata": {},
     "source": [
      "this sentiment readout is pretty weird... train this better?  how?  email Nicole."
     ]
    },
    {
     "cell_type": "code",
     "collapsed": false,
     "input": [
      "harderblobs = [textblob.TextBlob(sent,analyzer=textblob.en.sentiments.NaiveBayesAnalyzer()) for sent in hardersentences]"
     ],
     "language": "python",
     "metadata": {},
     "outputs": [],
     "prompt_number": 32
    },
    {
     "cell_type": "code",
     "collapsed": false,
     "input": [
      "for bl in harderblobs:\n",
      "    print bl.sentiment"
     ],
     "language": "python",
     "metadata": {},
     "outputs": [
      {
       "output_type": "stream",
       "stream": "stdout",
       "text": [
        "Sentiment(classification='pos', p_pos=0.8774417445063435, p_neg=0.12255825549365598)\n",
        "Sentiment(classification='pos', p_pos=0.5961235306460198, p_neg=0.40387646935397986)"
       ]
      },
      {
       "output_type": "stream",
       "stream": "stdout",
       "text": [
        "\n",
        "Sentiment(classification='pos', p_pos=0.7056613327029135, p_neg=0.29433866729708535)"
       ]
      },
      {
       "output_type": "stream",
       "stream": "stdout",
       "text": [
        "\n",
        "Sentiment(classification='pos', p_pos=0.8142318700317821, p_neg=0.18576812996821818)"
       ]
      },
      {
       "output_type": "stream",
       "stream": "stdout",
       "text": [
        "\n",
        "Sentiment(classification='neg', p_pos=0.4117811787691304, p_neg=0.5882188212308693)"
       ]
      },
      {
       "output_type": "stream",
       "stream": "stdout",
       "text": [
        "\n"
       ]
      }
     ],
     "prompt_number": 33
    },
    {
     "cell_type": "code",
     "collapsed": false,
     "input": [
      "harderblobs"
     ],
     "language": "python",
     "metadata": {},
     "outputs": [
      {
       "metadata": {},
       "output_type": "pyout",
       "prompt_number": 34,
       "text": [
        "[TextBlob(\"I take both Wellbutrin and Celexa, 300mg/30mg respectively.\"),\n",
        " TextBlob(\"Originally I was just taking Celexa but I hit a slump where I had no energy or motivation to get out of bed, then was prescribed Wellbutrin.\"),\n",
        " TextBlob(\"It definitely gave me back the energy I was missing.\"),\n",
        " TextBlob(\"Although if I miss my dose for a day my life is hell, instantly suicidal.\"),\n",
        " TextBlob(\"Good luck!\")]"
       ]
      }
     ],
     "prompt_number": 34
    },
    {
     "cell_type": "code",
     "collapsed": false,
     "input": [
      "harderblob = textblob.TextBlob(hardertext,analyzer=textblob.en.sentiments.NaiveBayesAnalyzer())"
     ],
     "language": "python",
     "metadata": {},
     "outputs": [],
     "prompt_number": 35
    },
    {
     "cell_type": "code",
     "collapsed": false,
     "input": [
      "harderblob.sentiment"
     ],
     "language": "python",
     "metadata": {},
     "outputs": [
      {
       "metadata": {},
       "output_type": "pyout",
       "prompt_number": 36,
       "text": [
        "Sentiment(classification='pos', p_pos=0.9861440024182109, p_neg=0.01385599758179133)"
       ]
      }
     ],
     "prompt_number": 36
    },
    {
     "cell_type": "markdown",
     "metadata": {},
     "source": [
      "Naive Bayes classifier has some trouble (and runs a good deal slower than the default PatternAnalyzer).  Have labeled data from Nicole's project... can use this to train classifier?"
     ]
    },
    {
     "cell_type": "markdown",
     "metadata": {},
     "source": [
      "maybe we'll initially only find single-mention sentences... can also do a general sentiment scan with single-mention comments as well."
     ]
    },
    {
     "cell_type": "markdown",
     "metadata": {},
     "source": [
      "usage note: don't have to manually split textblob on sentences..."
     ]
    },
    {
     "cell_type": "code",
     "collapsed": false,
     "input": [
      "harderblob"
     ],
     "language": "python",
     "metadata": {},
     "outputs": [
      {
       "metadata": {},
       "output_type": "pyout",
       "prompt_number": 37,
       "text": [
        "TextBlob(\"I take both Wellbutrin and Celexa, 300mg/30mg respectively. Originally I was just taking Celexa but I hit a slump where I had no energy or motivation to get out of bed, then was prescribed Wellbutrin. It definitely gave me back the energy I was missing. Although if I miss my dose for a day my life is hell, instantly suicidal. Good luck!\")"
       ]
      }
     ],
     "prompt_number": 37
    },
    {
     "cell_type": "code",
     "collapsed": false,
     "input": [
      "harderblob.sentences"
     ],
     "language": "python",
     "metadata": {},
     "outputs": [
      {
       "metadata": {},
       "output_type": "pyout",
       "prompt_number": 38,
       "text": [
        "[Sentence(\"I take both Wellbutrin and Celexa, 300mg/30mg respectively.\"),\n",
        " Sentence(\"Originally I was just taking Celexa but I hit a slump where I had no energy or motivation to get out of bed, then was prescribed Wellbutrin.\"),\n",
        " Sentence(\"It definitely gave me back the energy I was missing.\"),\n",
        " Sentence(\"Although if I miss my dose for a day my life is hell, instantly suicidal.\"),\n",
        " Sentence(\"Good luck!\")]"
       ]
      }
     ],
     "prompt_number": 38
    },
    {
     "cell_type": "markdown",
     "metadata": {},
     "source": [
      "<code>Sentence</code> objects behave as <code>TextBlob</code>s themselves."
     ]
    },
    {
     "cell_type": "markdown",
     "metadata": {},
     "source": [
      "let's try training the sentiment analyzer on Nicole's dataset."
     ]
    },
    {
     "cell_type": "code",
     "collapsed": false,
     "input": [
      "import pandas"
     ],
     "language": "python",
     "metadata": {},
     "outputs": [],
     "prompt_number": 39
    },
    {
     "cell_type": "code",
     "collapsed": false,
     "input": [
      "df = pandas.read_csv('/home/jrwalk/python/empath/data/training/Comments.txt',index_col=0)"
     ],
     "language": "python",
     "metadata": {},
     "outputs": [],
     "prompt_number": 40
    },
    {
     "cell_type": "code",
     "collapsed": false,
     "input": [
      "df"
     ],
     "language": "python",
     "metadata": {},
     "outputs": [
      {
       "html": [
        "<div style=\"max-width:1500px;overflow:auto;\">\n",
        "<table border=\"1\" class=\"dataframe\">\n",
        "  <thead>\n",
        "    <tr style=\"text-align: right;\">\n",
        "      <th></th>\n",
        "      <th>Rating</th>\n",
        "      <th>Reason</th>\n",
        "      <th>Side Effects</th>\n",
        "      <th>Comments</th>\n",
        "      <th>Sex</th>\n",
        "      <th>Age</th>\n",
        "      <th>Duration/Dossage</th>\n",
        "      <th>Date Added</th>\n",
        "      <th>Drug</th>\n",
        "      <th>Category</th>\n",
        "    </tr>\n",
        "  </thead>\n",
        "  <tbody>\n",
        "    <tr>\n",
        "      <th>0</th>\n",
        "      <td>4</td>\n",
        "      <td>Extreme pain</td>\n",
        "      <td>A number of years after I started taking takin...</td>\n",
        "      <td>The company who is responsible for selling Act...</td>\n",
        "      <td>M</td>\n",
        "      <td>60</td>\n",
        "      <td>10  years400</td>\n",
        "      <td>5/16/2015</td>\n",
        "      <td>ACTIQ</td>\n",
        "      <td>ANALGESICSNARCOTIC</td>\n",
        "    </tr>\n",
        "    <tr>\n",
        "      <th>1</th>\n",
        "      <td>1</td>\n",
        "      <td>back paralysis</td>\n",
        "      <td>Loss of all teeth, bone loss in jaw, severe in...</td>\n",
        "      <td>Please see my Facebook page, Actiq ruined my t...</td>\n",
        "      <td>M</td>\n",
        "      <td>53</td>\n",
        "      <td>4  years200-1600mc 8X D</td>\n",
        "      <td>2/12/2015Email</td>\n",
        "      <td>ACTIQ</td>\n",
        "      <td>ANALGESICSNARCOTIC</td>\n",
        "    </tr>\n",
        "    <tr>\n",
        "      <th>2</th>\n",
        "      <td>5</td>\n",
        "      <td>6kyphplasties drunk hit me 75MPH</td>\n",
        "      <td>Rotted out teeth over $20,000 to try to save t...</td>\n",
        "      <td>Can you please help us fight these insurance c...</td>\n",
        "      <td>F</td>\n",
        "      <td>56</td>\n",
        "      <td>12  years400mcg 6X D</td>\n",
        "      <td>10/7/2014Email</td>\n",
        "      <td>ACTIQ</td>\n",
        "      <td>ANALGESICSNARCOTIC</td>\n",
        "    </tr>\n",
        "    <tr>\n",
        "      <th>3</th>\n",
        "      <td>1</td>\n",
        "      <td>Cancer pain</td>\n",
        "      <td>Like most, my teeth are falling apart.  I'm si...</td>\n",
        "      <td>I loved Actiq before I knew about the damage i...</td>\n",
        "      <td>F</td>\n",
        "      <td>45</td>\n",
        "      <td>8  years1000 mcg 4X D</td>\n",
        "      <td>6/15/2014Email</td>\n",
        "      <td>ACTIQ</td>\n",
        "      <td>ANALGESICSNARCOTIC</td>\n",
        "    </tr>\n",
        "    <tr>\n",
        "      <th>4</th>\n",
        "      <td>1</td>\n",
        "      <td>Fibromylgia</td>\n",
        "      <td>plan on getting dentures, I have lost most of ...</td>\n",
        "      <td>I took great care of my teeth on actiq and sti...</td>\n",
        "      <td>F</td>\n",
        "      <td>52</td>\n",
        "      <td>7  years200 3X D</td>\n",
        "      <td>4/3/2014Email</td>\n",
        "      <td>ACTIQ</td>\n",
        "      <td>ANALGESICSNARCOTIC</td>\n",
        "    </tr>\n",
        "    <tr>\n",
        "      <th>5</th>\n",
        "      <td>5</td>\n",
        "      <td>Adhesive capulitis  in shoulder</td>\n",
        "      <td>None and don't understand all the people that ...</td>\n",
        "      <td>NaN</td>\n",
        "      <td>F</td>\n",
        "      <td>54</td>\n",
        "      <td>8  years600 mcg</td>\n",
        "      <td>4/22/2013</td>\n",
        "      <td>ACTIQ</td>\n",
        "      <td>ANALGESICSNARCOTIC</td>\n",
        "    </tr>\n",
        "    <tr>\n",
        "      <th>6</th>\n",
        "      <td>5</td>\n",
        "      <td>clinic pain syndrome</td>\n",
        "      <td>not much other than the teeth decay, root cana...</td>\n",
        "      <td>NaN</td>\n",
        "      <td>F</td>\n",
        "      <td>43</td>\n",
        "      <td>8  years800</td>\n",
        "      <td>3/6/2013Email</td>\n",
        "      <td>ACTIQ</td>\n",
        "      <td>ANALGESICSNARCOTIC</td>\n",
        "    </tr>\n",
        "    <tr>\n",
        "      <th>7</th>\n",
        "      <td>5</td>\n",
        "      <td>chronic back pain&amp;stomach pain</td>\n",
        "      <td>Lost teeth and can't afford new ones.it is the...</td>\n",
        "      <td>NaN</td>\n",
        "      <td>M</td>\n",
        "      <td>40</td>\n",
        "      <td>7  years1600&amp;800mc</td>\n",
        "      <td>10/9/2012Email</td>\n",
        "      <td>ACTIQ</td>\n",
        "      <td>ANALGESICSNARCOTIC</td>\n",
        "    </tr>\n",
        "    <tr>\n",
        "      <th>8</th>\n",
        "      <td>4</td>\n",
        "      <td>Avascular necrosis and severe back</td>\n",
        "      <td>I also lost my teeth, but it turned out okay. ...</td>\n",
        "      <td>NaN</td>\n",
        "      <td>F</td>\n",
        "      <td>52</td>\n",
        "      <td>7  years800 mcg 4X D</td>\n",
        "      <td>2/8/2012</td>\n",
        "      <td>ACTIQ</td>\n",
        "      <td>ANALGESICSNARCOTIC</td>\n",
        "    </tr>\n",
        "    <tr>\n",
        "      <th>9</th>\n",
        "      <td>5</td>\n",
        "      <td>Bilateral TotalJointReplacement TMJ</td>\n",
        "      <td>I LOVE this medication because it has been the...</td>\n",
        "      <td>If there are any attorneys who are considering...</td>\n",
        "      <td>F</td>\n",
        "      <td>42</td>\n",
        "      <td>8  years1600 MCG 7X D</td>\n",
        "      <td>11/12/2011Email</td>\n",
        "      <td>ACTIQ</td>\n",
        "      <td>ANALGESICSNARCOTIC</td>\n",
        "    </tr>\n",
        "    <tr>\n",
        "      <th>10</th>\n",
        "      <td>5</td>\n",
        "      <td>severe degenerative disc disease</td>\n",
        "      <td>only side effect; I did eventually lose all my...</td>\n",
        "      <td>Actiq was the very best medication for pain re...</td>\n",
        "      <td>F</td>\n",
        "      <td>62</td>\n",
        "      <td>6  years400mcg 3X D</td>\n",
        "      <td>4/14/2011Email</td>\n",
        "      <td>ACTIQ</td>\n",
        "      <td>ANALGESICSNARCOTIC</td>\n",
        "    </tr>\n",
        "    <tr>\n",
        "      <th>11</th>\n",
        "      <td>4</td>\n",
        "      <td>cerv/lumb herniated discs; more</td>\n",
        "      <td>I had to stop the Atiq several yrs ago, so I d...</td>\n",
        "      <td>Worst thing I've ever done to my body.</td>\n",
        "      <td>F</td>\n",
        "      <td>56</td>\n",
        "      <td>don't reme 6X D</td>\n",
        "      <td>3/20/2011Email</td>\n",
        "      <td>ACTIQ</td>\n",
        "      <td>ANALGESICSNARCOTIC</td>\n",
        "    </tr>\n",
        "    <tr>\n",
        "      <th>12</th>\n",
        "      <td>5</td>\n",
        "      <td>arachnoiditis,5 spinal surgeries</td>\n",
        "      <td>I had perfect teeth, always from childhood til...</td>\n",
        "      <td>I think we all need to get a class action star...</td>\n",
        "      <td>F</td>\n",
        "      <td>48</td>\n",
        "      <td>6  days600 mcg 4X D</td>\n",
        "      <td>2/19/2011Email</td>\n",
        "      <td>ACTIQ</td>\n",
        "      <td>ANALGESICSNARCOTIC</td>\n",
        "    </tr>\n",
        "    <tr>\n",
        "      <th>13</th>\n",
        "      <td>4</td>\n",
        "      <td>chronic pain from 5 back surgerys</td>\n",
        "      <td>lost all my teeth</td>\n",
        "      <td>this medicine does what it was designed to do,...</td>\n",
        "      <td>M</td>\n",
        "      <td>49</td>\n",
        "      <td>5  years400mcg 3X D</td>\n",
        "      <td>1/28/2011</td>\n",
        "      <td>ACTIQ</td>\n",
        "      <td>ANALGESICSNARCOTIC</td>\n",
        "    </tr>\n",
        "    <tr>\n",
        "      <th>14</th>\n",
        "      <td>5</td>\n",
        "      <td>Fibromyalgia</td>\n",
        "      <td>Tooth decay &amp; sleepiness</td>\n",
        "      <td>I actually take 12/day, but the pull-down menu...</td>\n",
        "      <td>F</td>\n",
        "      <td>44</td>\n",
        "      <td>3  years800mcg 10X D</td>\n",
        "      <td>1/24/2011Email</td>\n",
        "      <td>ACTIQ</td>\n",
        "      <td>ANALGESICSNARCOTIC</td>\n",
        "    </tr>\n",
        "    <tr>\n",
        "      <th>15</th>\n",
        "      <td>5</td>\n",
        "      <td>Chronic Pain</td>\n",
        "      <td>You WILL Loose ALL your Teeth eventually with ...</td>\n",
        "      <td>USE your Actiq for now on, with NO DECAY futur...</td>\n",
        "      <td>M</td>\n",
        "      <td>45</td>\n",
        "      <td>2  years1600mcg 4X D</td>\n",
        "      <td>12/8/2010Email</td>\n",
        "      <td>ACTIQ</td>\n",
        "      <td>ANALGESICSNARCOTIC</td>\n",
        "    </tr>\n",
        "    <tr>\n",
        "      <th>16</th>\n",
        "      <td>1</td>\n",
        "      <td>RSD, disc herniations neck, pain</td>\n",
        "      <td>Horrible teeth problems, lost most of my teeth...</td>\n",
        "      <td>shame on actiq manufacturer for promoting off ...</td>\n",
        "      <td>F</td>\n",
        "      <td>49</td>\n",
        "      <td>8  years1600 mcg 8X D</td>\n",
        "      <td>9/15/2010Email</td>\n",
        "      <td>ACTIQ</td>\n",
        "      <td>ANALGESICSNARCOTIC</td>\n",
        "    </tr>\n",
        "    <tr>\n",
        "      <th>17</th>\n",
        "      <td>5</td>\n",
        "      <td>severe cronic back pain neck &amp;low b</td>\n",
        "      <td>Like just about all pain meds. DRY MOUTH is ma...</td>\n",
        "      <td>ACTIQ name brand works. It's the only one. The...</td>\n",
        "      <td>F</td>\n",
        "      <td>50</td>\n",
        "      <td>800mg 4X D</td>\n",
        "      <td>7/31/2010</td>\n",
        "      <td>ACTIQ</td>\n",
        "      <td>ANALGESICSNARCOTIC</td>\n",
        "    </tr>\n",
        "    <tr>\n",
        "      <th>18</th>\n",
        "      <td>1</td>\n",
        "      <td>spinal surgery and constant pain</td>\n",
        "      <td>Why is there no class action law suit on this ...</td>\n",
        "      <td>Stay away from this drug at all costs. That is...</td>\n",
        "      <td>F</td>\n",
        "      <td>45</td>\n",
        "      <td>5  days1600 mcg 6X D</td>\n",
        "      <td>7/5/2010</td>\n",
        "      <td>ACTIQ</td>\n",
        "      <td>ANALGESICSNARCOTIC</td>\n",
        "    </tr>\n",
        "    <tr>\n",
        "      <th>19</th>\n",
        "      <td>1</td>\n",
        "      <td>CANCER</td>\n",
        "      <td>EVERY SINGLE TOOTH IN MY MOUTH HAD TO BE REPLA...</td>\n",
        "      <td>NaN</td>\n",
        "      <td>F</td>\n",
        "      <td>45</td>\n",
        "      <td>4  years800MCG 6X D</td>\n",
        "      <td>6/15/2010</td>\n",
        "      <td>ACTIQ</td>\n",
        "      <td>ANALGESICSNARCOTIC</td>\n",
        "    </tr>\n",
        "    <tr>\n",
        "      <th>20</th>\n",
        "      <td>5</td>\n",
        "      <td>chronic breakthrough pain</td>\n",
        "      <td>worked great back to a normal life again</td>\n",
        "      <td>insurance stopped paying for actiq in 2009 now...</td>\n",
        "      <td>F</td>\n",
        "      <td>43</td>\n",
        "      <td>6  years1200mcg 4X D</td>\n",
        "      <td>3/22/2010History</td>\n",
        "      <td>ACTIQ</td>\n",
        "      <td>ANALGESICSNARCOTIC</td>\n",
        "    </tr>\n",
        "    <tr>\n",
        "      <th>21</th>\n",
        "      <td>1</td>\n",
        "      <td>Cronic back pain arachnoditis</td>\n",
        "      <td>Complete decay of my teeth. There are no warni...</td>\n",
        "      <td>There is no question whatsoever that Actiq cau...</td>\n",
        "      <td>M</td>\n",
        "      <td>58</td>\n",
        "      <td>3  years800 mcg 4X D</td>\n",
        "      <td>3/4/2010Email</td>\n",
        "      <td>ACTIQ</td>\n",
        "      <td>ANALGESICSNARCOTIC</td>\n",
        "    </tr>\n",
        "    <tr>\n",
        "      <th>22</th>\n",
        "      <td>4</td>\n",
        "      <td>Severe back pain-surgery/ sciatica</td>\n",
        "      <td>the only side effect I've had are to my teeth-...</td>\n",
        "      <td>Besides the teeth the other problem is insuran...</td>\n",
        "      <td>F</td>\n",
        "      <td>60</td>\n",
        "      <td>2  years400 mg 3X AN</td>\n",
        "      <td>2/7/2010Email</td>\n",
        "      <td>ACTIQ</td>\n",
        "      <td>ANALGESICSNARCOTIC</td>\n",
        "    </tr>\n",
        "    <tr>\n",
        "      <th>23</th>\n",
        "      <td>4</td>\n",
        "      <td>Broken in half by car accident</td>\n",
        "      <td>At first my stomach was up set, but that faded...</td>\n",
        "      <td>If I knew then what I know now, I never would ...</td>\n",
        "      <td>F</td>\n",
        "      <td>50</td>\n",
        "      <td>2  years</td>\n",
        "      <td>1/8/2010Email</td>\n",
        "      <td>ACTIQ</td>\n",
        "      <td>ANALGESICSNARCOTIC</td>\n",
        "    </tr>\n",
        "    <tr>\n",
        "      <th>24</th>\n",
        "      <td>5</td>\n",
        "      <td>DDD, Cervical Radiculopathy, etc.</td>\n",
        "      <td>4 surface cavities plus 11 teeth with no ename...</td>\n",
        "      <td>Works great for pain.  Fentanyl is the only na...</td>\n",
        "      <td>F</td>\n",
        "      <td>32</td>\n",
        "      <td>7  years</td>\n",
        "      <td>12/19/2009</td>\n",
        "      <td>ACTIQ</td>\n",
        "      <td>ANALGESICSNARCOTIC</td>\n",
        "    </tr>\n",
        "    <tr>\n",
        "      <th>25</th>\n",
        "      <td>3</td>\n",
        "      <td>RA, DEGENERATIVE DISC, FYBROMYALGIA</td>\n",
        "      <td>LONG STORY VERY SHORT- BEEN ON THIS ABOUT 10 Y...</td>\n",
        "      <td>DONT TAKE THIS MED IF OTHER OPTIONS ARE AVAILA...</td>\n",
        "      <td>F</td>\n",
        "      <td>42</td>\n",
        "      <td>10  years</td>\n",
        "      <td>6/16/2009</td>\n",
        "      <td>ACTIQ</td>\n",
        "      <td>ANALGESICSNARCOTIC</td>\n",
        "    </tr>\n",
        "    <tr>\n",
        "      <th>26</th>\n",
        "      <td>3</td>\n",
        "      <td>for R.A.</td>\n",
        "      <td>LOST ALL MY TEETH</td>\n",
        "      <td>IT WORKZ GOOD FOR SHORT TERM PAIN. I AM ALSO V...</td>\n",
        "      <td>F</td>\n",
        "      <td>66</td>\n",
        "      <td>4  years</td>\n",
        "      <td>2/22/2009Email</td>\n",
        "      <td>ACTIQ</td>\n",
        "      <td>ANALGESICSNARCOTIC</td>\n",
        "    </tr>\n",
        "    <tr>\n",
        "      <th>27</th>\n",
        "      <td>4</td>\n",
        "      <td>Severe Back Injury 9herniated discs</td>\n",
        "      <td>I have been on Morphine(200 mg. 4x daily) &amp; Ac...</td>\n",
        "      <td>Actiq does help with the excruciating back pai...</td>\n",
        "      <td>M</td>\n",
        "      <td>45</td>\n",
        "      <td>5  years</td>\n",
        "      <td>1/31/2009Email</td>\n",
        "      <td>ACTIQ</td>\n",
        "      <td>ANALGESICSNARCOTIC</td>\n",
        "    </tr>\n",
        "    <tr>\n",
        "      <th>28</th>\n",
        "      <td>5</td>\n",
        "      <td>Chronic Back Pain Syndrome; RSD</td>\n",
        "      <td>My ONLY side effect was the rotting, decay, br...</td>\n",
        "      <td>Actiq allowed me to participate in my life; fo...</td>\n",
        "      <td>F</td>\n",
        "      <td>48</td>\n",
        "      <td>2  years</td>\n",
        "      <td>9/4/2008</td>\n",
        "      <td>ACTIQ</td>\n",
        "      <td>ANALGESICSNARCOTIC</td>\n",
        "    </tr>\n",
        "    <tr>\n",
        "      <th>29</th>\n",
        "      <td>5</td>\n",
        "      <td>Chronic pain (degenerative joints)</td>\n",
        "      <td>Lost all my teeth, constipation (mestinon prov...</td>\n",
        "      <td>Actiq is a godsend for me as well. I couldn't ...</td>\n",
        "      <td>M</td>\n",
        "      <td>56</td>\n",
        "      <td>10  years</td>\n",
        "      <td>8/17/2008Email</td>\n",
        "      <td>ACTIQ</td>\n",
        "      <td>ANALGESICSNARCOTIC</td>\n",
        "    </tr>\n",
        "    <tr>\n",
        "      <th>...</th>\n",
        "      <td>...</td>\n",
        "      <td>...</td>\n",
        "      <td>...</td>\n",
        "      <td>...</td>\n",
        "      <td>...</td>\n",
        "      <td>...</td>\n",
        "      <td>...</td>\n",
        "      <td>...</td>\n",
        "      <td>...</td>\n",
        "      <td>...</td>\n",
        "    </tr>\n",
        "    <tr>\n",
        "      <th>14617</th>\n",
        "      <td>3</td>\n",
        "      <td>lyme disease</td>\n",
        "      <td>nausea, dizziness, headaches</td>\n",
        "      <td>I was switched from Biaxin to Doxcycline, as t...</td>\n",
        "      <td>F</td>\n",
        "      <td>29</td>\n",
        "      <td>2  weeks100mg 2X D</td>\n",
        "      <td>11/11/2010</td>\n",
        "      <td>VIBRAMYCIN</td>\n",
        "      <td>TETRACYCLINES</td>\n",
        "    </tr>\n",
        "    <tr>\n",
        "      <th>14618</th>\n",
        "      <td>2</td>\n",
        "      <td>UTI</td>\n",
        "      <td>Euphoria, 'swelling of the head' (head felt sw...</td>\n",
        "      <td>I took Doxycycline for a suspected UTI. I will...</td>\n",
        "      <td>M</td>\n",
        "      <td>27</td>\n",
        "      <td>14  days? 1X D</td>\n",
        "      <td>7/12/2010</td>\n",
        "      <td>VIBRAMYCIN</td>\n",
        "      <td>TETRACYCLINES</td>\n",
        "    </tr>\n",
        "    <tr>\n",
        "      <th>14619</th>\n",
        "      <td>2</td>\n",
        "      <td>UTI</td>\n",
        "      <td>EXTREME SUN SENSITIVITY!!!  I went to the beac...</td>\n",
        "      <td>NaN</td>\n",
        "      <td>F</td>\n",
        "      <td>39</td>\n",
        "      <td>10  days 2X D</td>\n",
        "      <td>7/6/2010Email</td>\n",
        "      <td>VIBRAMYCIN</td>\n",
        "      <td>TETRACYCLINES</td>\n",
        "    </tr>\n",
        "    <tr>\n",
        "      <th>14620</th>\n",
        "      <td>1</td>\n",
        "      <td>celulitis</td>\n",
        "      <td>Terrible heachache and fatigue, and dizziness,...</td>\n",
        "      <td>It is very powerful and effective antibiotic, ...</td>\n",
        "      <td>F</td>\n",
        "      <td>62</td>\n",
        "      <td>8  days100 1X D</td>\n",
        "      <td>6/22/2010</td>\n",
        "      <td>VIBRAMYCIN</td>\n",
        "      <td>TETRACYCLINES</td>\n",
        "    </tr>\n",
        "    <tr>\n",
        "      <th>14621</th>\n",
        "      <td>2</td>\n",
        "      <td>outer ear infection</td>\n",
        "      <td>vertigo, vomiting</td>\n",
        "      <td>On the second day, at midday, I started to fee...</td>\n",
        "      <td>F</td>\n",
        "      <td>46</td>\n",
        "      <td>2  days</td>\n",
        "      <td>9/19/2009</td>\n",
        "      <td>VIBRAMYCIN</td>\n",
        "      <td>TETRACYCLINES</td>\n",
        "    </tr>\n",
        "    <tr>\n",
        "      <th>14622</th>\n",
        "      <td>5</td>\n",
        "      <td>lyme disease</td>\n",
        "      <td>migraines, light and sound sensitivity, fatigu...</td>\n",
        "      <td>I gave it a 5 - it wasn't the drug causing tha...</td>\n",
        "      <td>F</td>\n",
        "      <td>40</td>\n",
        "      <td>14  days</td>\n",
        "      <td>8/10/2009</td>\n",
        "      <td>VIBRAMYCIN</td>\n",
        "      <td>TETRACYCLINES</td>\n",
        "    </tr>\n",
        "    <tr>\n",
        "      <th>14623</th>\n",
        "      <td>5</td>\n",
        "      <td>Uknown Superbug</td>\n",
        "      <td>fatigue, muscle weakness, drenching sweats, na...</td>\n",
        "      <td>I have a bug that cant seem to be cured and vi...</td>\n",
        "      <td>M</td>\n",
        "      <td>48</td>\n",
        "      <td>14  months</td>\n",
        "      <td>3/4/2009</td>\n",
        "      <td>VIBRAMYCIN</td>\n",
        "      <td>TETRACYCLINES</td>\n",
        "    </tr>\n",
        "    <tr>\n",
        "      <th>14624</th>\n",
        "      <td>2</td>\n",
        "      <td>Rosacea</td>\n",
        "      <td>Difficulty swallowing, fatigue, headache, lack...</td>\n",
        "      <td>NaN</td>\n",
        "      <td>M</td>\n",
        "      <td>57</td>\n",
        "      <td>30  days</td>\n",
        "      <td>1/25/2009</td>\n",
        "      <td>VIBRAMYCIN</td>\n",
        "      <td>TETRACYCLINES</td>\n",
        "    </tr>\n",
        "    <tr>\n",
        "      <th>14625</th>\n",
        "      <td>5</td>\n",
        "      <td>most recently for Lyme Disease</td>\n",
        "      <td>Nausea and a tendency to sunburn easily</td>\n",
        "      <td>I have used Doxy many times over the years, mo...</td>\n",
        "      <td>M</td>\n",
        "      <td>66</td>\n",
        "      <td>28  days</td>\n",
        "      <td>10/9/2008</td>\n",
        "      <td>VIBRAMYCIN</td>\n",
        "      <td>TETRACYCLINES</td>\n",
        "    </tr>\n",
        "    <tr>\n",
        "      <th>14626</th>\n",
        "      <td>2</td>\n",
        "      <td>pelvic inflammatory disease</td>\n",
        "      <td>I have been taking it and it hasnt done anythi...</td>\n",
        "      <td>SUCKS!</td>\n",
        "      <td>F</td>\n",
        "      <td>24</td>\n",
        "      <td>10  days</td>\n",
        "      <td>9/30/2008</td>\n",
        "      <td>VIBRAMYCIN</td>\n",
        "      <td>TETRACYCLINES</td>\n",
        "    </tr>\n",
        "    <tr>\n",
        "      <th>14627</th>\n",
        "      <td>1</td>\n",
        "      <td>urinary tract infection</td>\n",
        "      <td>Muscle weakness and muscle cramps</td>\n",
        "      <td>After a couple of days of medication, I experi...</td>\n",
        "      <td>F</td>\n",
        "      <td>51</td>\n",
        "      <td>8  days</td>\n",
        "      <td>7/19/2008Email</td>\n",
        "      <td>VIBRAMYCIN</td>\n",
        "      <td>TETRACYCLINES</td>\n",
        "    </tr>\n",
        "    <tr>\n",
        "      <th>14628</th>\n",
        "      <td>4</td>\n",
        "      <td>maxillary sinuses</td>\n",
        "      <td>Bad indigestion, incomplete or gassy movements...</td>\n",
        "      <td>This is a good, but powerful antibiotic. it kn...</td>\n",
        "      <td>M</td>\n",
        "      <td>31</td>\n",
        "      <td>10  days</td>\n",
        "      <td>3/24/2008</td>\n",
        "      <td>VIBRAMYCIN</td>\n",
        "      <td>TETRACYCLINES</td>\n",
        "    </tr>\n",
        "    <tr>\n",
        "      <th>14629</th>\n",
        "      <td>2</td>\n",
        "      <td>Sinus Infection</td>\n",
        "      <td>Severe rash resembling fingernail scratches wh...</td>\n",
        "      <td>NaN</td>\n",
        "      <td>F</td>\n",
        "      <td>37</td>\n",
        "      <td>7  days</td>\n",
        "      <td>3/5/2008</td>\n",
        "      <td>VIBRAMYCIN</td>\n",
        "      <td>TETRACYCLINES</td>\n",
        "    </tr>\n",
        "    <tr>\n",
        "      <th>14630</th>\n",
        "      <td>2</td>\n",
        "      <td>Eye Infection</td>\n",
        "      <td>Muscle pain, gastroesophageal reflux, lethargy...</td>\n",
        "      <td>Doxy cleared up a nagging eye infection.  Howe...</td>\n",
        "      <td>M</td>\n",
        "      <td>48</td>\n",
        "      <td>7  days</td>\n",
        "      <td>1/11/2008</td>\n",
        "      <td>VIBRAMYCIN</td>\n",
        "      <td>TETRACYCLINES</td>\n",
        "    </tr>\n",
        "    <tr>\n",
        "      <th>14631</th>\n",
        "      <td>1</td>\n",
        "      <td>UTI</td>\n",
        "      <td>Extreme Nausea.</td>\n",
        "      <td>Immediately after taking it (w/in 10-20 mins.)...</td>\n",
        "      <td>F</td>\n",
        "      <td>21</td>\n",
        "      <td>7  days</td>\n",
        "      <td>1/11/2008</td>\n",
        "      <td>VIBRAMYCIN</td>\n",
        "      <td>TETRACYCLINES</td>\n",
        "    </tr>\n",
        "    <tr>\n",
        "      <th>14632</th>\n",
        "      <td>4</td>\n",
        "      <td>UTI</td>\n",
        "      <td>Very bad nausea.</td>\n",
        "      <td>It says to take on an empty stomach, but I wou...</td>\n",
        "      <td>F</td>\n",
        "      <td>21</td>\n",
        "      <td>7  days</td>\n",
        "      <td>12/26/2007</td>\n",
        "      <td>VIBRAMYCIN</td>\n",
        "      <td>TETRACYCLINES</td>\n",
        "    </tr>\n",
        "    <tr>\n",
        "      <th>14633</th>\n",
        "      <td>4</td>\n",
        "      <td>Cellulitis</td>\n",
        "      <td>some muscle stiffness</td>\n",
        "      <td>NaN</td>\n",
        "      <td>F</td>\n",
        "      <td>57</td>\n",
        "      <td>8  days</td>\n",
        "      <td>9/22/2007</td>\n",
        "      <td>VIBRAMYCIN</td>\n",
        "      <td>TETRACYCLINES</td>\n",
        "    </tr>\n",
        "    <tr>\n",
        "      <th>14634</th>\n",
        "      <td>4</td>\n",
        "      <td>chronic eye infections</td>\n",
        "      <td>It made my skin feel like it was sprinkling ra...</td>\n",
        "      <td>NaN</td>\n",
        "      <td>F</td>\n",
        "      <td>42</td>\n",
        "      <td>2  weeks</td>\n",
        "      <td>9/2/2007</td>\n",
        "      <td>VIBRAMYCIN</td>\n",
        "      <td>TETRACYCLINES</td>\n",
        "    </tr>\n",
        "    <tr>\n",
        "      <th>14635</th>\n",
        "      <td>1</td>\n",
        "      <td>Treatment of possible Lyme disease</td>\n",
        "      <td>Horrible nausea, itchy/senstive skin, pain whi...</td>\n",
        "      <td>I will never take this medicine again.  The na...</td>\n",
        "      <td>F</td>\n",
        "      <td>29</td>\n",
        "      <td>2  weeks</td>\n",
        "      <td>8/21/2007</td>\n",
        "      <td>VIBRAMYCIN</td>\n",
        "      <td>TETRACYCLINES</td>\n",
        "    </tr>\n",
        "    <tr>\n",
        "      <th>14636</th>\n",
        "      <td>1</td>\n",
        "      <td>epididymitis</td>\n",
        "      <td>absolute chronic stomach cramps!!</td>\n",
        "      <td>worst antibiotic ive ever had! within 2 days o...</td>\n",
        "      <td>M</td>\n",
        "      <td>20</td>\n",
        "      <td>3  days</td>\n",
        "      <td>5/6/2007</td>\n",
        "      <td>VIBRAMYCIN</td>\n",
        "      <td>TETRACYCLINES</td>\n",
        "    </tr>\n",
        "    <tr>\n",
        "      <th>14637</th>\n",
        "      <td>4</td>\n",
        "      <td>Malaria Prevention</td>\n",
        "      <td>Upset stomach and moderate nausea.  Eating usu...</td>\n",
        "      <td>This stuff gets rid of all kinds of bacteria. ...</td>\n",
        "      <td>M</td>\n",
        "      <td>20</td>\n",
        "      <td>5  months</td>\n",
        "      <td>11/4/2006</td>\n",
        "      <td>VIBRAMYCIN</td>\n",
        "      <td>TETRACYCLINES</td>\n",
        "    </tr>\n",
        "    <tr>\n",
        "      <th>14638</th>\n",
        "      <td>1</td>\n",
        "      <td>epididymitis</td>\n",
        "      <td>cataracts, rash</td>\n",
        "      <td>wear sunglasses when taking this</td>\n",
        "      <td>M</td>\n",
        "      <td>55</td>\n",
        "      <td>30  days</td>\n",
        "      <td>1/19/2006</td>\n",
        "      <td>VIBRAMYCIN</td>\n",
        "      <td>TETRACYCLINES</td>\n",
        "    </tr>\n",
        "    <tr>\n",
        "      <th>14639</th>\n",
        "      <td>2</td>\n",
        "      <td>Ocular rosacea</td>\n",
        "      <td>Nausea !  Then strong hunger pangs.     For th...</td>\n",
        "      <td>Hated to stop in the middle of treatment, but ...</td>\n",
        "      <td>F</td>\n",
        "      <td>28</td>\n",
        "      <td>4  days</td>\n",
        "      <td>11/19/2005</td>\n",
        "      <td>VIBRAMYCIN</td>\n",
        "      <td>TETRACYCLINES</td>\n",
        "    </tr>\n",
        "    <tr>\n",
        "      <th>14640</th>\n",
        "      <td>4</td>\n",
        "      <td>malaria prophylaxis</td>\n",
        "      <td>mild nausea</td>\n",
        "      <td>A well tolerated prophylactic malaria medication.</td>\n",
        "      <td>M</td>\n",
        "      <td>29</td>\n",
        "      <td>6  weeks</td>\n",
        "      <td>9/5/2005</td>\n",
        "      <td>VIBRAMYCIN</td>\n",
        "      <td>TETRACYCLINES</td>\n",
        "    </tr>\n",
        "    <tr>\n",
        "      <th>14641</th>\n",
        "      <td>1</td>\n",
        "      <td>testicular infection</td>\n",
        "      <td>caused severe build up of uric acid in body le...</td>\n",
        "      <td>i would consider carefully before taking these...</td>\n",
        "      <td>M</td>\n",
        "      <td>35</td>\n",
        "      <td>10  days</td>\n",
        "      <td>4/9/2005</td>\n",
        "      <td>VIBRAMYCIN</td>\n",
        "      <td>TETRACYCLINES</td>\n",
        "    </tr>\n",
        "    <tr>\n",
        "      <th>14642</th>\n",
        "      <td>1</td>\n",
        "      <td>skin infection</td>\n",
        "      <td>Major reaction - heart racing, couldn't breath...</td>\n",
        "      <td>Would be cautious if taking this med - I would...</td>\n",
        "      <td>F</td>\n",
        "      <td>27</td>\n",
        "      <td>1  days</td>\n",
        "      <td>3/31/2005</td>\n",
        "      <td>VIBRAMYCIN</td>\n",
        "      <td>TETRACYCLINES</td>\n",
        "    </tr>\n",
        "    <tr>\n",
        "      <th>14643</th>\n",
        "      <td>1</td>\n",
        "      <td>lump on my neck</td>\n",
        "      <td>severe headaches,weakness,nausea,stinging tong...</td>\n",
        "      <td>Not sure which is worse. The infection or the ...</td>\n",
        "      <td>F</td>\n",
        "      <td>47</td>\n",
        "      <td>9  days</td>\n",
        "      <td>8/12/2004</td>\n",
        "      <td>VIBRAMYCIN</td>\n",
        "      <td>TETRACYCLINES</td>\n",
        "    </tr>\n",
        "    <tr>\n",
        "      <th>14644</th>\n",
        "      <td>4</td>\n",
        "      <td>Lyme Disease Treatment</td>\n",
        "      <td>I experienced, tingling &amp; swollen lips, sore m...</td>\n",
        "      <td>100  mg twice a day for two weeks</td>\n",
        "      <td>F</td>\n",
        "      <td>33</td>\n",
        "      <td>14  days</td>\n",
        "      <td>9/13/2003</td>\n",
        "      <td>VIBRAMYCIN</td>\n",
        "      <td>TETRACYCLINES</td>\n",
        "    </tr>\n",
        "    <tr>\n",
        "      <th>14645</th>\n",
        "      <td>1</td>\n",
        "      <td>acne</td>\n",
        "      <td>Severe congestion, headaches, nausea, vertigo</td>\n",
        "      <td>NaN</td>\n",
        "      <td>M</td>\n",
        "      <td>24</td>\n",
        "      <td>3  weeks</td>\n",
        "      <td>7/19/2001</td>\n",
        "      <td>VIBRAMYCIN</td>\n",
        "      <td>TETRACYCLINES</td>\n",
        "    </tr>\n",
        "    <tr>\n",
        "      <th>14646</th>\n",
        "      <td>4</td>\n",
        "      <td>acne</td>\n",
        "      <td>none.</td>\n",
        "      <td>NaN</td>\n",
        "      <td>F</td>\n",
        "      <td>19</td>\n",
        "      <td>2  months</td>\n",
        "      <td>5/3/2001</td>\n",
        "      <td>VIBRAMYCIN</td>\n",
        "      <td>TETRACYCLINES</td>\n",
        "    </tr>\n",
        "  </tbody>\n",
        "</table>\n",
        "<p>14647 rows \u00d7 10 columns</p>\n",
        "</div>"
       ],
       "metadata": {},
       "output_type": "pyout",
       "prompt_number": 41,
       "text": [
        "       Rating                                Reason  \\\n",
        "0           4                          Extreme pain   \n",
        "1           1                        back paralysis   \n",
        "2           5      6kyphplasties drunk hit me 75MPH   \n",
        "3           1                           Cancer pain   \n",
        "4           1                           Fibromylgia   \n",
        "5           5       Adhesive capulitis  in shoulder   \n",
        "6           5                  clinic pain syndrome   \n",
        "7           5        chronic back pain&stomach pain   \n",
        "8           4    Avascular necrosis and severe back   \n",
        "9           5   Bilateral TotalJointReplacement TMJ   \n",
        "10          5      severe degenerative disc disease   \n",
        "11          4       cerv/lumb herniated discs; more   \n",
        "12          5      arachnoiditis,5 spinal surgeries   \n",
        "13          4     chronic pain from 5 back surgerys   \n",
        "14          5                          Fibromyalgia   \n",
        "15          5                          Chronic Pain   \n",
        "16          1      RSD, disc herniations neck, pain   \n",
        "17          5   severe cronic back pain neck &low b   \n",
        "18          1      spinal surgery and constant pain   \n",
        "19          1                                CANCER   \n",
        "20          5             chronic breakthrough pain   \n",
        "21          1         Cronic back pain arachnoditis   \n",
        "22          4    Severe back pain-surgery/ sciatica   \n",
        "23          4        Broken in half by car accident   \n",
        "24          5     DDD, Cervical Radiculopathy, etc.   \n",
        "25          3   RA, DEGENERATIVE DISC, FYBROMYALGIA   \n",
        "26          3                              for R.A.   \n",
        "27          4   Severe Back Injury 9herniated discs   \n",
        "28          5       Chronic Back Pain Syndrome; RSD   \n",
        "29          5    Chronic pain (degenerative joints)   \n",
        "...       ...                                   ...   \n",
        "14617       3                          lyme disease   \n",
        "14618       2                                   UTI   \n",
        "14619       2                                   UTI   \n",
        "14620       1                             celulitis   \n",
        "14621       2                   outer ear infection   \n",
        "14622       5                          lyme disease   \n",
        "14623       5                       Uknown Superbug   \n",
        "14624       2                               Rosacea   \n",
        "14625       5        most recently for Lyme Disease   \n",
        "14626       2           pelvic inflammatory disease   \n",
        "14627       1               urinary tract infection   \n",
        "14628       4                     maxillary sinuses   \n",
        "14629       2                       Sinus Infection   \n",
        "14630       2                         Eye Infection   \n",
        "14631       1                                   UTI   \n",
        "14632       4                                   UTI   \n",
        "14633       4                            Cellulitis   \n",
        "14634       4                chronic eye infections   \n",
        "14635       1    Treatment of possible Lyme disease   \n",
        "14636       1                          epididymitis   \n",
        "14637       4                    Malaria Prevention   \n",
        "14638       1                          epididymitis   \n",
        "14639       2                        Ocular rosacea   \n",
        "14640       4                   malaria prophylaxis   \n",
        "14641       1                  testicular infection   \n",
        "14642       1                        skin infection   \n",
        "14643       1                       lump on my neck   \n",
        "14644       4                Lyme Disease Treatment   \n",
        "14645       1                                  acne   \n",
        "14646       4                                  acne   \n",
        "\n",
        "                                            Side Effects  \\\n",
        "0      A number of years after I started taking takin...   \n",
        "1      Loss of all teeth, bone loss in jaw, severe in...   \n",
        "2      Rotted out teeth over $20,000 to try to save t...   \n",
        "3      Like most, my teeth are falling apart.  I'm si...   \n",
        "4      plan on getting dentures, I have lost most of ...   \n",
        "5      None and don't understand all the people that ...   \n",
        "6      not much other than the teeth decay, root cana...   \n",
        "7      Lost teeth and can't afford new ones.it is the...   \n",
        "8      I also lost my teeth, but it turned out okay. ...   \n",
        "9      I LOVE this medication because it has been the...   \n",
        "10     only side effect; I did eventually lose all my...   \n",
        "11     I had to stop the Atiq several yrs ago, so I d...   \n",
        "12     I had perfect teeth, always from childhood til...   \n",
        "13                                     lost all my teeth   \n",
        "14                              Tooth decay & sleepiness   \n",
        "15     You WILL Loose ALL your Teeth eventually with ...   \n",
        "16     Horrible teeth problems, lost most of my teeth...   \n",
        "17     Like just about all pain meds. DRY MOUTH is ma...   \n",
        "18     Why is there no class action law suit on this ...   \n",
        "19     EVERY SINGLE TOOTH IN MY MOUTH HAD TO BE REPLA...   \n",
        "20              worked great back to a normal life again   \n",
        "21     Complete decay of my teeth. There are no warni...   \n",
        "22     the only side effect I've had are to my teeth-...   \n",
        "23     At first my stomach was up set, but that faded...   \n",
        "24     4 surface cavities plus 11 teeth with no ename...   \n",
        "25     LONG STORY VERY SHORT- BEEN ON THIS ABOUT 10 Y...   \n",
        "26                                     LOST ALL MY TEETH   \n",
        "27     I have been on Morphine(200 mg. 4x daily) & Ac...   \n",
        "28     My ONLY side effect was the rotting, decay, br...   \n",
        "29     Lost all my teeth, constipation (mestinon prov...   \n",
        "...                                                  ...   \n",
        "14617                       nausea, dizziness, headaches   \n",
        "14618  Euphoria, 'swelling of the head' (head felt sw...   \n",
        "14619  EXTREME SUN SENSITIVITY!!!  I went to the beac...   \n",
        "14620  Terrible heachache and fatigue, and dizziness,...   \n",
        "14621                                  vertigo, vomiting   \n",
        "14622  migraines, light and sound sensitivity, fatigu...   \n",
        "14623  fatigue, muscle weakness, drenching sweats, na...   \n",
        "14624  Difficulty swallowing, fatigue, headache, lack...   \n",
        "14625            Nausea and a tendency to sunburn easily   \n",
        "14626  I have been taking it and it hasnt done anythi...   \n",
        "14627                  Muscle weakness and muscle cramps   \n",
        "14628  Bad indigestion, incomplete or gassy movements...   \n",
        "14629  Severe rash resembling fingernail scratches wh...   \n",
        "14630  Muscle pain, gastroesophageal reflux, lethargy...   \n",
        "14631                                    Extreme Nausea.   \n",
        "14632                                   Very bad nausea.   \n",
        "14633                              some muscle stiffness   \n",
        "14634  It made my skin feel like it was sprinkling ra...   \n",
        "14635  Horrible nausea, itchy/senstive skin, pain whi...   \n",
        "14636                  absolute chronic stomach cramps!!   \n",
        "14637  Upset stomach and moderate nausea.  Eating usu...   \n",
        "14638                                    cataracts, rash   \n",
        "14639  Nausea !  Then strong hunger pangs.     For th...   \n",
        "14640                                        mild nausea   \n",
        "14641  caused severe build up of uric acid in body le...   \n",
        "14642  Major reaction - heart racing, couldn't breath...   \n",
        "14643  severe headaches,weakness,nausea,stinging tong...   \n",
        "14644  I experienced, tingling & swollen lips, sore m...   \n",
        "14645      Severe congestion, headaches, nausea, vertigo   \n",
        "14646                                              none.   \n",
        "\n",
        "                                                Comments Sex  Age  \\\n",
        "0      The company who is responsible for selling Act...   M   60   \n",
        "1      Please see my Facebook page, Actiq ruined my t...   M   53   \n",
        "2      Can you please help us fight these insurance c...   F   56   \n",
        "3      I loved Actiq before I knew about the damage i...   F   45   \n",
        "4      I took great care of my teeth on actiq and sti...   F   52   \n",
        "5                                                    NaN   F   54   \n",
        "6                                                    NaN   F   43   \n",
        "7                                                    NaN   M   40   \n",
        "8                                                    NaN   F   52   \n",
        "9      If there are any attorneys who are considering...   F   42   \n",
        "10     Actiq was the very best medication for pain re...   F   62   \n",
        "11                Worst thing I've ever done to my body.   F   56   \n",
        "12     I think we all need to get a class action star...   F   48   \n",
        "13     this medicine does what it was designed to do,...   M   49   \n",
        "14     I actually take 12/day, but the pull-down menu...   F   44   \n",
        "15     USE your Actiq for now on, with NO DECAY futur...   M   45   \n",
        "16     shame on actiq manufacturer for promoting off ...   F   49   \n",
        "17     ACTIQ name brand works. It's the only one. The...   F   50   \n",
        "18     Stay away from this drug at all costs. That is...   F   45   \n",
        "19                                                   NaN   F   45   \n",
        "20     insurance stopped paying for actiq in 2009 now...   F   43   \n",
        "21     There is no question whatsoever that Actiq cau...   M   58   \n",
        "22     Besides the teeth the other problem is insuran...   F   60   \n",
        "23     If I knew then what I know now, I never would ...   F   50   \n",
        "24     Works great for pain.  Fentanyl is the only na...   F   32   \n",
        "25     DONT TAKE THIS MED IF OTHER OPTIONS ARE AVAILA...   F   42   \n",
        "26     IT WORKZ GOOD FOR SHORT TERM PAIN. I AM ALSO V...   F   66   \n",
        "27     Actiq does help with the excruciating back pai...   M   45   \n",
        "28     Actiq allowed me to participate in my life; fo...   F   48   \n",
        "29     Actiq is a godsend for me as well. I couldn't ...   M   56   \n",
        "...                                                  ...  ..  ...   \n",
        "14617  I was switched from Biaxin to Doxcycline, as t...   F   29   \n",
        "14618  I took Doxycycline for a suspected UTI. I will...   M   27   \n",
        "14619                                                NaN   F   39   \n",
        "14620  It is very powerful and effective antibiotic, ...   F   62   \n",
        "14621  On the second day, at midday, I started to fee...   F   46   \n",
        "14622  I gave it a 5 - it wasn't the drug causing tha...   F   40   \n",
        "14623  I have a bug that cant seem to be cured and vi...   M   48   \n",
        "14624                                                NaN   M   57   \n",
        "14625  I have used Doxy many times over the years, mo...   M   66   \n",
        "14626                                             SUCKS!   F   24   \n",
        "14627  After a couple of days of medication, I experi...   F   51   \n",
        "14628  This is a good, but powerful antibiotic. it kn...   M   31   \n",
        "14629                                                NaN   F   37   \n",
        "14630  Doxy cleared up a nagging eye infection.  Howe...   M   48   \n",
        "14631  Immediately after taking it (w/in 10-20 mins.)...   F   21   \n",
        "14632  It says to take on an empty stomach, but I wou...   F   21   \n",
        "14633                                                NaN   F   57   \n",
        "14634                                                NaN   F   42   \n",
        "14635  I will never take this medicine again.  The na...   F   29   \n",
        "14636  worst antibiotic ive ever had! within 2 days o...   M   20   \n",
        "14637  This stuff gets rid of all kinds of bacteria. ...   M   20   \n",
        "14638                   wear sunglasses when taking this   M   55   \n",
        "14639  Hated to stop in the middle of treatment, but ...   F   28   \n",
        "14640  A well tolerated prophylactic malaria medication.   M   29   \n",
        "14641  i would consider carefully before taking these...   M   35   \n",
        "14642  Would be cautious if taking this med - I would...   F   27   \n",
        "14643  Not sure which is worse. The infection or the ...   F   47   \n",
        "14644                  100  mg twice a day for two weeks   F   33   \n",
        "14645                                                NaN   M   24   \n",
        "14646                                                NaN   F   19   \n",
        "\n",
        "              Duration/Dossage        Date Added        Drug  \\\n",
        "0                 10  years400         5/16/2015       ACTIQ   \n",
        "1      4  years200-1600mc 8X D    2/12/2015Email       ACTIQ   \n",
        "2         12  years400mcg 6X D    10/7/2014Email       ACTIQ   \n",
        "3        8  years1000 mcg 4X D    6/15/2014Email       ACTIQ   \n",
        "4             7  years200 3X D     4/3/2014Email       ACTIQ   \n",
        "5              8  years600 mcg         4/22/2013       ACTIQ   \n",
        "6                  8  years800     3/6/2013Email       ACTIQ   \n",
        "7           7  years1600&800mc    10/9/2012Email       ACTIQ   \n",
        "8         7  years800 mcg 4X D          2/8/2012       ACTIQ   \n",
        "9        8  years1600 MCG 7X D   11/12/2011Email       ACTIQ   \n",
        "10         6  years400mcg 3X D    4/14/2011Email       ACTIQ   \n",
        "11             don't reme 6X D    3/20/2011Email       ACTIQ   \n",
        "12         6  days600 mcg 4X D    2/19/2011Email       ACTIQ   \n",
        "13         5  years400mcg 3X D         1/28/2011       ACTIQ   \n",
        "14        3  years800mcg 10X D    1/24/2011Email       ACTIQ   \n",
        "15        2  years1600mcg 4X D    12/8/2010Email       ACTIQ   \n",
        "16       8  years1600 mcg 8X D    9/15/2010Email       ACTIQ   \n",
        "17                  800mg 4X D         7/31/2010       ACTIQ   \n",
        "18        5  days1600 mcg 6X D          7/5/2010       ACTIQ   \n",
        "19         4  years800MCG 6X D         6/15/2010       ACTIQ   \n",
        "20        6  years1200mcg 4X D  3/22/2010History       ACTIQ   \n",
        "21        3  years800 mcg 4X D     3/4/2010Email       ACTIQ   \n",
        "22        2  years400 mg 3X AN     2/7/2010Email       ACTIQ   \n",
        "23                    2  years     1/8/2010Email       ACTIQ   \n",
        "24                    7  years        12/19/2009       ACTIQ   \n",
        "25                   10  years         6/16/2009       ACTIQ   \n",
        "26                    4  years    2/22/2009Email       ACTIQ   \n",
        "27                    5  years    1/31/2009Email       ACTIQ   \n",
        "28                    2  years          9/4/2008       ACTIQ   \n",
        "29                   10  years    8/17/2008Email       ACTIQ   \n",
        "...                        ...               ...         ...   \n",
        "14617       2  weeks100mg 2X D        11/11/2010  VIBRAMYCIN   \n",
        "14618           14  days? 1X D         7/12/2010  VIBRAMYCIN   \n",
        "14619            10  days 2X D     7/6/2010Email  VIBRAMYCIN   \n",
        "14620          8  days100 1X D         6/22/2010  VIBRAMYCIN   \n",
        "14621                  2  days         9/19/2009  VIBRAMYCIN   \n",
        "14622                 14  days         8/10/2009  VIBRAMYCIN   \n",
        "14623               14  months          3/4/2009  VIBRAMYCIN   \n",
        "14624                 30  days         1/25/2009  VIBRAMYCIN   \n",
        "14625                 28  days         10/9/2008  VIBRAMYCIN   \n",
        "14626                 10  days         9/30/2008  VIBRAMYCIN   \n",
        "14627                  8  days    7/19/2008Email  VIBRAMYCIN   \n",
        "14628                 10  days         3/24/2008  VIBRAMYCIN   \n",
        "14629                  7  days          3/5/2008  VIBRAMYCIN   \n",
        "14630                  7  days         1/11/2008  VIBRAMYCIN   \n",
        "14631                  7  days         1/11/2008  VIBRAMYCIN   \n",
        "14632                  7  days        12/26/2007  VIBRAMYCIN   \n",
        "14633                  8  days         9/22/2007  VIBRAMYCIN   \n",
        "14634                 2  weeks          9/2/2007  VIBRAMYCIN   \n",
        "14635                 2  weeks         8/21/2007  VIBRAMYCIN   \n",
        "14636                  3  days          5/6/2007  VIBRAMYCIN   \n",
        "14637                5  months         11/4/2006  VIBRAMYCIN   \n",
        "14638                 30  days         1/19/2006  VIBRAMYCIN   \n",
        "14639                  4  days        11/19/2005  VIBRAMYCIN   \n",
        "14640                 6  weeks          9/5/2005  VIBRAMYCIN   \n",
        "14641                 10  days          4/9/2005  VIBRAMYCIN   \n",
        "14642                  1  days         3/31/2005  VIBRAMYCIN   \n",
        "14643                  9  days         8/12/2004  VIBRAMYCIN   \n",
        "14644                 14  days         9/13/2003  VIBRAMYCIN   \n",
        "14645                 3  weeks         7/19/2001  VIBRAMYCIN   \n",
        "14646                2  months          5/3/2001  VIBRAMYCIN   \n",
        "\n",
        "                 Category  \n",
        "0      ANALGESICSNARCOTIC  \n",
        "1      ANALGESICSNARCOTIC  \n",
        "2      ANALGESICSNARCOTIC  \n",
        "3      ANALGESICSNARCOTIC  \n",
        "4      ANALGESICSNARCOTIC  \n",
        "5      ANALGESICSNARCOTIC  \n",
        "6      ANALGESICSNARCOTIC  \n",
        "7      ANALGESICSNARCOTIC  \n",
        "8      ANALGESICSNARCOTIC  \n",
        "9      ANALGESICSNARCOTIC  \n",
        "10     ANALGESICSNARCOTIC  \n",
        "11     ANALGESICSNARCOTIC  \n",
        "12     ANALGESICSNARCOTIC  \n",
        "13     ANALGESICSNARCOTIC  \n",
        "14     ANALGESICSNARCOTIC  \n",
        "15     ANALGESICSNARCOTIC  \n",
        "16     ANALGESICSNARCOTIC  \n",
        "17     ANALGESICSNARCOTIC  \n",
        "18     ANALGESICSNARCOTIC  \n",
        "19     ANALGESICSNARCOTIC  \n",
        "20     ANALGESICSNARCOTIC  \n",
        "21     ANALGESICSNARCOTIC  \n",
        "22     ANALGESICSNARCOTIC  \n",
        "23     ANALGESICSNARCOTIC  \n",
        "24     ANALGESICSNARCOTIC  \n",
        "25     ANALGESICSNARCOTIC  \n",
        "26     ANALGESICSNARCOTIC  \n",
        "27     ANALGESICSNARCOTIC  \n",
        "28     ANALGESICSNARCOTIC  \n",
        "29     ANALGESICSNARCOTIC  \n",
        "...                   ...  \n",
        "14617       TETRACYCLINES  \n",
        "14618       TETRACYCLINES  \n",
        "14619       TETRACYCLINES  \n",
        "14620       TETRACYCLINES  \n",
        "14621       TETRACYCLINES  \n",
        "14622       TETRACYCLINES  \n",
        "14623       TETRACYCLINES  \n",
        "14624       TETRACYCLINES  \n",
        "14625       TETRACYCLINES  \n",
        "14626       TETRACYCLINES  \n",
        "14627       TETRACYCLINES  \n",
        "14628       TETRACYCLINES  \n",
        "14629       TETRACYCLINES  \n",
        "14630       TETRACYCLINES  \n",
        "14631       TETRACYCLINES  \n",
        "14632       TETRACYCLINES  \n",
        "14633       TETRACYCLINES  \n",
        "14634       TETRACYCLINES  \n",
        "14635       TETRACYCLINES  \n",
        "14636       TETRACYCLINES  \n",
        "14637       TETRACYCLINES  \n",
        "14638       TETRACYCLINES  \n",
        "14639       TETRACYCLINES  \n",
        "14640       TETRACYCLINES  \n",
        "14641       TETRACYCLINES  \n",
        "14642       TETRACYCLINES  \n",
        "14643       TETRACYCLINES  \n",
        "14644       TETRACYCLINES  \n",
        "14645       TETRACYCLINES  \n",
        "14646       TETRACYCLINES  \n",
        "\n",
        "[14647 rows x 10 columns]"
       ]
      }
     ],
     "prompt_number": 41
    },
    {
     "cell_type": "code",
     "collapsed": false,
     "input": [
      "df.ix[0]"
     ],
     "language": "python",
     "metadata": {},
     "outputs": [
      {
       "metadata": {},
       "output_type": "pyout",
       "prompt_number": 42,
       "text": [
        "Rating                                                              4\n",
        "Reason                                                   Extreme pain\n",
        "Side Effects        A number of years after I started taking takin...\n",
        "Comments            The company who is responsible for selling Act...\n",
        "Sex                                                                 M\n",
        "Age                                                                60\n",
        "Duration/Dossage                                         10  years400\n",
        "Date Added                                                  5/16/2015\n",
        "Drug                                                            ACTIQ\n",
        "Category                                           ANALGESICSNARCOTIC\n",
        "Name: 0, dtype: object"
       ]
      }
     ],
     "prompt_number": 42
    },
    {
     "cell_type": "code",
     "collapsed": false,
     "input": [
      "import numpy as np\n",
      "df['Comments'].replace('',np.nan,inplace=True)"
     ],
     "language": "python",
     "metadata": {},
     "outputs": [],
     "prompt_number": 43
    },
    {
     "cell_type": "code",
     "collapsed": false,
     "input": [
      "df.dropna(subset=['Comments'],inplace=True)"
     ],
     "language": "python",
     "metadata": {},
     "outputs": [],
     "prompt_number": 44
    },
    {
     "cell_type": "code",
     "collapsed": false,
     "input": [
      "df=df.drop_duplicates(subset=['Drug','Comments'])"
     ],
     "language": "python",
     "metadata": {},
     "outputs": [],
     "prompt_number": 45
    },
    {
     "cell_type": "code",
     "collapsed": false,
     "input": [
      "df=df[df.Rating!=3]"
     ],
     "language": "python",
     "metadata": {},
     "outputs": [],
     "prompt_number": 46
    },
    {
     "cell_type": "code",
     "collapsed": false,
     "input": [
      "df['Value']=['pos' if x>3 else 'neg' for x in df['Rating']]"
     ],
     "language": "python",
     "metadata": {},
     "outputs": [],
     "prompt_number": 47
    },
    {
     "cell_type": "code",
     "collapsed": false,
     "input": [
      "df.head(10)"
     ],
     "language": "python",
     "metadata": {},
     "outputs": [
      {
       "html": [
        "<div style=\"max-width:1500px;overflow:auto;\">\n",
        "<table border=\"1\" class=\"dataframe\">\n",
        "  <thead>\n",
        "    <tr style=\"text-align: right;\">\n",
        "      <th></th>\n",
        "      <th>Rating</th>\n",
        "      <th>Reason</th>\n",
        "      <th>Side Effects</th>\n",
        "      <th>Comments</th>\n",
        "      <th>Sex</th>\n",
        "      <th>Age</th>\n",
        "      <th>Duration/Dossage</th>\n",
        "      <th>Date Added</th>\n",
        "      <th>Drug</th>\n",
        "      <th>Category</th>\n",
        "      <th>Value</th>\n",
        "    </tr>\n",
        "  </thead>\n",
        "  <tbody>\n",
        "    <tr>\n",
        "      <th>0</th>\n",
        "      <td>4</td>\n",
        "      <td>Extreme pain</td>\n",
        "      <td>A number of years after I started taking takin...</td>\n",
        "      <td>The company who is responsible for selling Act...</td>\n",
        "      <td>M</td>\n",
        "      <td>60</td>\n",
        "      <td>10  years400</td>\n",
        "      <td>5/16/2015</td>\n",
        "      <td>ACTIQ</td>\n",
        "      <td>ANALGESICSNARCOTIC</td>\n",
        "      <td>pos</td>\n",
        "    </tr>\n",
        "    <tr>\n",
        "      <th>1</th>\n",
        "      <td>1</td>\n",
        "      <td>back paralysis</td>\n",
        "      <td>Loss of all teeth, bone loss in jaw, severe in...</td>\n",
        "      <td>Please see my Facebook page, Actiq ruined my t...</td>\n",
        "      <td>M</td>\n",
        "      <td>53</td>\n",
        "      <td>4  years200-1600mc 8X D</td>\n",
        "      <td>2/12/2015Email</td>\n",
        "      <td>ACTIQ</td>\n",
        "      <td>ANALGESICSNARCOTIC</td>\n",
        "      <td>neg</td>\n",
        "    </tr>\n",
        "    <tr>\n",
        "      <th>2</th>\n",
        "      <td>5</td>\n",
        "      <td>6kyphplasties drunk hit me 75MPH</td>\n",
        "      <td>Rotted out teeth over $20,000 to try to save t...</td>\n",
        "      <td>Can you please help us fight these insurance c...</td>\n",
        "      <td>F</td>\n",
        "      <td>56</td>\n",
        "      <td>12  years400mcg 6X D</td>\n",
        "      <td>10/7/2014Email</td>\n",
        "      <td>ACTIQ</td>\n",
        "      <td>ANALGESICSNARCOTIC</td>\n",
        "      <td>pos</td>\n",
        "    </tr>\n",
        "    <tr>\n",
        "      <th>3</th>\n",
        "      <td>1</td>\n",
        "      <td>Cancer pain</td>\n",
        "      <td>Like most, my teeth are falling apart.  I'm si...</td>\n",
        "      <td>I loved Actiq before I knew about the damage i...</td>\n",
        "      <td>F</td>\n",
        "      <td>45</td>\n",
        "      <td>8  years1000 mcg 4X D</td>\n",
        "      <td>6/15/2014Email</td>\n",
        "      <td>ACTIQ</td>\n",
        "      <td>ANALGESICSNARCOTIC</td>\n",
        "      <td>neg</td>\n",
        "    </tr>\n",
        "    <tr>\n",
        "      <th>4</th>\n",
        "      <td>1</td>\n",
        "      <td>Fibromylgia</td>\n",
        "      <td>plan on getting dentures, I have lost most of ...</td>\n",
        "      <td>I took great care of my teeth on actiq and sti...</td>\n",
        "      <td>F</td>\n",
        "      <td>52</td>\n",
        "      <td>7  years200 3X D</td>\n",
        "      <td>4/3/2014Email</td>\n",
        "      <td>ACTIQ</td>\n",
        "      <td>ANALGESICSNARCOTIC</td>\n",
        "      <td>neg</td>\n",
        "    </tr>\n",
        "    <tr>\n",
        "      <th>9</th>\n",
        "      <td>5</td>\n",
        "      <td>Bilateral TotalJointReplacement TMJ</td>\n",
        "      <td>I LOVE this medication because it has been the...</td>\n",
        "      <td>If there are any attorneys who are considering...</td>\n",
        "      <td>F</td>\n",
        "      <td>42</td>\n",
        "      <td>8  years1600 MCG 7X D</td>\n",
        "      <td>11/12/2011Email</td>\n",
        "      <td>ACTIQ</td>\n",
        "      <td>ANALGESICSNARCOTIC</td>\n",
        "      <td>pos</td>\n",
        "    </tr>\n",
        "    <tr>\n",
        "      <th>10</th>\n",
        "      <td>5</td>\n",
        "      <td>severe degenerative disc disease</td>\n",
        "      <td>only side effect; I did eventually lose all my...</td>\n",
        "      <td>Actiq was the very best medication for pain re...</td>\n",
        "      <td>F</td>\n",
        "      <td>62</td>\n",
        "      <td>6  years400mcg 3X D</td>\n",
        "      <td>4/14/2011Email</td>\n",
        "      <td>ACTIQ</td>\n",
        "      <td>ANALGESICSNARCOTIC</td>\n",
        "      <td>pos</td>\n",
        "    </tr>\n",
        "    <tr>\n",
        "      <th>11</th>\n",
        "      <td>4</td>\n",
        "      <td>cerv/lumb herniated discs; more</td>\n",
        "      <td>I had to stop the Atiq several yrs ago, so I d...</td>\n",
        "      <td>Worst thing I've ever done to my body.</td>\n",
        "      <td>F</td>\n",
        "      <td>56</td>\n",
        "      <td>don't reme 6X D</td>\n",
        "      <td>3/20/2011Email</td>\n",
        "      <td>ACTIQ</td>\n",
        "      <td>ANALGESICSNARCOTIC</td>\n",
        "      <td>pos</td>\n",
        "    </tr>\n",
        "    <tr>\n",
        "      <th>12</th>\n",
        "      <td>5</td>\n",
        "      <td>arachnoiditis,5 spinal surgeries</td>\n",
        "      <td>I had perfect teeth, always from childhood til...</td>\n",
        "      <td>I think we all need to get a class action star...</td>\n",
        "      <td>F</td>\n",
        "      <td>48</td>\n",
        "      <td>6  days600 mcg 4X D</td>\n",
        "      <td>2/19/2011Email</td>\n",
        "      <td>ACTIQ</td>\n",
        "      <td>ANALGESICSNARCOTIC</td>\n",
        "      <td>pos</td>\n",
        "    </tr>\n",
        "    <tr>\n",
        "      <th>13</th>\n",
        "      <td>4</td>\n",
        "      <td>chronic pain from 5 back surgerys</td>\n",
        "      <td>lost all my teeth</td>\n",
        "      <td>this medicine does what it was designed to do,...</td>\n",
        "      <td>M</td>\n",
        "      <td>49</td>\n",
        "      <td>5  years400mcg 3X D</td>\n",
        "      <td>1/28/2011</td>\n",
        "      <td>ACTIQ</td>\n",
        "      <td>ANALGESICSNARCOTIC</td>\n",
        "      <td>pos</td>\n",
        "    </tr>\n",
        "  </tbody>\n",
        "</table>\n",
        "</div>"
       ],
       "metadata": {},
       "output_type": "pyout",
       "prompt_number": 48,
       "text": [
        "    Rating                                Reason  \\\n",
        "0        4                          Extreme pain   \n",
        "1        1                        back paralysis   \n",
        "2        5      6kyphplasties drunk hit me 75MPH   \n",
        "3        1                           Cancer pain   \n",
        "4        1                           Fibromylgia   \n",
        "9        5   Bilateral TotalJointReplacement TMJ   \n",
        "10       5      severe degenerative disc disease   \n",
        "11       4       cerv/lumb herniated discs; more   \n",
        "12       5      arachnoiditis,5 spinal surgeries   \n",
        "13       4     chronic pain from 5 back surgerys   \n",
        "\n",
        "                                         Side Effects  \\\n",
        "0   A number of years after I started taking takin...   \n",
        "1   Loss of all teeth, bone loss in jaw, severe in...   \n",
        "2   Rotted out teeth over $20,000 to try to save t...   \n",
        "3   Like most, my teeth are falling apart.  I'm si...   \n",
        "4   plan on getting dentures, I have lost most of ...   \n",
        "9   I LOVE this medication because it has been the...   \n",
        "10  only side effect; I did eventually lose all my...   \n",
        "11  I had to stop the Atiq several yrs ago, so I d...   \n",
        "12  I had perfect teeth, always from childhood til...   \n",
        "13                                  lost all my teeth   \n",
        "\n",
        "                                             Comments Sex  Age  \\\n",
        "0   The company who is responsible for selling Act...   M   60   \n",
        "1   Please see my Facebook page, Actiq ruined my t...   M   53   \n",
        "2   Can you please help us fight these insurance c...   F   56   \n",
        "3   I loved Actiq before I knew about the damage i...   F   45   \n",
        "4   I took great care of my teeth on actiq and sti...   F   52   \n",
        "9   If there are any attorneys who are considering...   F   42   \n",
        "10  Actiq was the very best medication for pain re...   F   62   \n",
        "11             Worst thing I've ever done to my body.   F   56   \n",
        "12  I think we all need to get a class action star...   F   48   \n",
        "13  this medicine does what it was designed to do,...   M   49   \n",
        "\n",
        "           Duration/Dossage       Date Added   Drug            Category Value  \n",
        "0              10  years400        5/16/2015  ACTIQ  ANALGESICSNARCOTIC   pos  \n",
        "1   4  years200-1600mc 8X D   2/12/2015Email  ACTIQ  ANALGESICSNARCOTIC   neg  \n",
        "2      12  years400mcg 6X D   10/7/2014Email  ACTIQ  ANALGESICSNARCOTIC   pos  \n",
        "3     8  years1000 mcg 4X D   6/15/2014Email  ACTIQ  ANALGESICSNARCOTIC   neg  \n",
        "4          7  years200 3X D    4/3/2014Email  ACTIQ  ANALGESICSNARCOTIC   neg  \n",
        "9     8  years1600 MCG 7X D  11/12/2011Email  ACTIQ  ANALGESICSNARCOTIC   pos  \n",
        "10      6  years400mcg 3X D   4/14/2011Email  ACTIQ  ANALGESICSNARCOTIC   pos  \n",
        "11          don't reme 6X D   3/20/2011Email  ACTIQ  ANALGESICSNARCOTIC   pos  \n",
        "12      6  days600 mcg 4X D   2/19/2011Email  ACTIQ  ANALGESICSNARCOTIC   pos  \n",
        "13      5  years400mcg 3X D        1/28/2011  ACTIQ  ANALGESICSNARCOTIC   pos  "
       ]
      }
     ],
     "prompt_number": 48
    },
    {
     "cell_type": "markdown",
     "metadata": {},
     "source": [
      "so now we have a body of comments with a positive/negative rating.  Let's use it to train the classifier."
     ]
    },
    {
     "cell_type": "code",
     "collapsed": false,
     "input": [
      "classifier = textblob.en.sentiments.NaiveBayesAnalyzer()"
     ],
     "language": "python",
     "metadata": {},
     "outputs": [],
     "prompt_number": 49
    },
    {
     "cell_type": "code",
     "collapsed": false,
     "input": [
      "pos_texts = df['Comments'][df['Value'] == 'pos'].tolist()"
     ],
     "language": "python",
     "metadata": {},
     "outputs": [],
     "prompt_number": 50
    },
    {
     "cell_type": "code",
     "collapsed": false,
     "input": [
      "neg_texts = df['Comments'][df['Value'] == 'neg'].tolist()"
     ],
     "language": "python",
     "metadata": {},
     "outputs": [],
     "prompt_number": 51
    },
    {
     "cell_type": "code",
     "collapsed": false,
     "input": [
      "pos_data = [(dict([(word,True) for word in com.split()]),'pos') for com in pos_texts]"
     ],
     "language": "python",
     "metadata": {},
     "outputs": [],
     "prompt_number": 52
    },
    {
     "cell_type": "code",
     "collapsed": false,
     "input": [
      "neg_data = [(dict([(word,True) for word in com.split()]),'neg') for com in neg_texts]"
     ],
     "language": "python",
     "metadata": {},
     "outputs": [],
     "prompt_number": 53
    },
    {
     "cell_type": "code",
     "collapsed": false,
     "input": [
      "trainingdata = pos_data+neg_data"
     ],
     "language": "python",
     "metadata": {},
     "outputs": [],
     "prompt_number": 54
    },
    {
     "cell_type": "code",
     "collapsed": false,
     "input": [
      "classifier = nltk.classify.NaiveBayesClassifier.train(trainingdata)"
     ],
     "language": "python",
     "metadata": {},
     "outputs": [],
     "prompt_number": 55
    },
    {
     "cell_type": "code",
     "collapsed": false,
     "input": [
      "classifier.show_most_informative_features()"
     ],
     "language": "python",
     "metadata": {},
     "outputs": [
      {
       "output_type": "stream",
       "stream": "stdout",
       "text": [
        "Most Informative Features\n",
        "                   Great = True              pos : neg    =     19.1 : 1.0"
       ]
      },
      {
       "output_type": "stream",
       "stream": "stdout",
       "text": [
        "\n",
        "                  poison = True              neg : pos    =     16.6 : 1.0\n",
        "                   death = True              neg : pos    =     13.3 : 1.0\n",
        "                 Lipitor = True              neg : pos    =     13.3 : 1.0\n",
        "                   Works = True              pos : neg    =     13.0 : 1.0\n",
        "                 miracle = True              pos : neg    =     12.7 : 1.0\n",
        "                 damaged = True              neg : pos    =     12.0 : 1.0\n",
        "                  Nardil = True              pos : neg    =     11.7 : 1.0\n",
        "              researched = True              neg : pos    =     11.4 : 1.0\n",
        "                    Love = True              pos : neg    =     11.3 : 1.0\n"
       ]
      }
     ],
     "prompt_number": 56
    },
    {
     "cell_type": "markdown",
     "metadata": {},
     "source": [
      "so we can likely use this classifier in a useful way..."
     ]
    },
    {
     "cell_type": "code",
     "collapsed": false,
     "input": [
      "dist = classifier.prob_classify(dict([(word,True) for word in hardertext]))"
     ],
     "language": "python",
     "metadata": {},
     "outputs": [],
     "prompt_number": 57
    },
    {
     "cell_type": "code",
     "collapsed": false,
     "input": [
      "dist.prob('neg')"
     ],
     "language": "python",
     "metadata": {},
     "outputs": [
      {
       "metadata": {},
       "output_type": "pyout",
       "prompt_number": 58,
       "text": [
        "0.9999996409082322"
       ]
      }
     ],
     "prompt_number": 58
    },
    {
     "cell_type": "code",
     "collapsed": false,
     "input": [
      "hardersentences"
     ],
     "language": "python",
     "metadata": {},
     "outputs": [
      {
       "metadata": {},
       "output_type": "pyout",
       "prompt_number": 59,
       "text": [
        "['I take both Wellbutrin and Celexa, 300mg/30mg respectively.',\n",
        " 'Originally I was just taking Celexa but I hit a slump where I had no energy or motivation to get out of bed, then was prescribed Wellbutrin.',\n",
        " 'It definitely gave me back the energy I was missing.',\n",
        " 'Although if I miss my dose for a day my life is hell, instantly suicidal.',\n",
        " 'Good luck!']"
       ]
      }
     ],
     "prompt_number": 59
    },
    {
     "cell_type": "code",
     "collapsed": false,
     "input": [
      "for sent in hardersentences:\n",
      "    print classifier.prob_classify(dict([(word,True) for word in sent])).prob('pos')"
     ],
     "language": "python",
     "metadata": {},
     "outputs": [
      {
       "output_type": "stream",
       "stream": "stdout",
       "text": [
        "7.61652305189e-06\n",
        "2.86399344525e-06\n",
        "4.60696337284e-05\n",
        "0.00045094776822\n",
        "0.00913446766548\n"
       ]
      }
     ],
     "prompt_number": 60
    },
    {
     "cell_type": "markdown",
     "metadata": {},
     "source": [
      "need to be more careful with training data, maybe?  clean stopwords and such, tokenize/stem..."
     ]
    },
    {
     "cell_type": "markdown",
     "metadata": {},
     "source": [
      "let's try working with the Stanford coreNLP results (run from compiled Java processes... but we can trigger these with a shell script and work out the I/O through text files I suppose...)"
     ]
    },
    {
     "cell_type": "code",
     "collapsed": false,
     "input": [
      "from corenlp_xml.document import Document\n",
      "xml = ''\n",
      "with open('/home/jrwalk/corenlp/test.txt.out','r') as r:\n",
      "    for line in r:\n",
      "        xml += line\n",
      "xml"
     ],
     "language": "python",
     "metadata": {},
     "outputs": [
      {
       "metadata": {},
       "output_type": "pyout",
       "prompt_number": 67,
       "text": [
        "'<?xml version=\"1.0\" encoding=\"UTF-8\"?>\\r\\n<?xml-stylesheet href=\"CoreNLP-to-HTML.xsl\" type=\"text/xsl\"?>\\r\\n<root>\\r\\n  <document>\\r\\n    <sentences>\\r\\n      <sentence id=\"1\" sentimentValue=\"1\" sentiment=\"Negative\">\\r\\n        <tokens>\\r\\n          <token id=\"1\">\\r\\n            <word>Zoloft</word>\\r\\n            <lemma>zoloft</lemma>\\r\\n            <CharacterOffsetBegin>0</CharacterOffsetBegin>\\r\\n            <CharacterOffsetEnd>6</CharacterOffsetEnd>\\r\\n            <POS>NN</POS>\\r\\n            <NER>O</NER>\\r\\n            <sentiment>Neutral</sentiment>\\r\\n          </token>\\r\\n          <token id=\"2\">\\r\\n            <word>fucked</word>\\r\\n            <lemma>fuck</lemma>\\r\\n            <CharacterOffsetBegin>7</CharacterOffsetBegin>\\r\\n            <CharacterOffsetEnd>13</CharacterOffsetEnd>\\r\\n            <POS>VBD</POS>\\r\\n            <NER>O</NER>\\r\\n            <sentiment>Neutral</sentiment>\\r\\n          </token>\\r\\n          <token id=\"3\">\\r\\n            <word>up</word>\\r\\n            <lemma>up</lemma>\\r\\n            <CharacterOffsetBegin>14</CharacterOffsetBegin>\\r\\n            <CharacterOffsetEnd>16</CharacterOffsetEnd>\\r\\n            <POS>RP</POS>\\r\\n            <NER>O</NER>\\r\\n            <sentiment>Neutral</sentiment>\\r\\n          </token>\\r\\n          <token id=\"4\">\\r\\n            <word>my</word>\\r\\n            <lemma>my</lemma>\\r\\n            <CharacterOffsetBegin>17</CharacterOffsetBegin>\\r\\n            <CharacterOffsetEnd>19</CharacterOffsetEnd>\\r\\n            <POS>PRP$</POS>\\r\\n            <NER>O</NER>\\r\\n            <sentiment>Neutral</sentiment>\\r\\n          </token>\\r\\n          <token id=\"5\">\\r\\n            <word>dick</word>\\r\\n            <lemma>dick</lemma>\\r\\n            <CharacterOffsetBegin>20</CharacterOffsetBegin>\\r\\n            <CharacterOffsetEnd>24</CharacterOffsetEnd>\\r\\n            <POS>NN</POS>\\r\\n            <NER>O</NER>\\r\\n            <sentiment>Neutral</sentiment>\\r\\n          </token>\\r\\n          <token id=\"6\">\\r\\n            <word>and</word>\\r\\n            <lemma>and</lemma>\\r\\n            <CharacterOffsetBegin>25</CharacterOffsetBegin>\\r\\n            <CharacterOffsetEnd>28</CharacterOffsetEnd>\\r\\n            <POS>CC</POS>\\r\\n            <NER>O</NER>\\r\\n            <sentiment>Neutral</sentiment>\\r\\n          </token>\\r\\n          <token id=\"7\">\\r\\n            <word>made</word>\\r\\n            <lemma>make</lemma>\\r\\n            <CharacterOffsetBegin>29</CharacterOffsetBegin>\\r\\n            <CharacterOffsetEnd>33</CharacterOffsetEnd>\\r\\n            <POS>VBD</POS>\\r\\n            <NER>O</NER>\\r\\n            <sentiment>Neutral</sentiment>\\r\\n          </token>\\r\\n          <token id=\"8\">\\r\\n            <word>me</word>\\r\\n            <lemma>I</lemma>\\r\\n            <CharacterOffsetBegin>34</CharacterOffsetBegin>\\r\\n            <CharacterOffsetEnd>36</CharacterOffsetEnd>\\r\\n            <POS>PRP</POS>\\r\\n            <NER>O</NER>\\r\\n            <sentiment>Positive</sentiment>\\r\\n          </token>\\r\\n          <token id=\"9\">\\r\\n            <word>think</word>\\r\\n            <lemma>think</lemma>\\r\\n            <CharacterOffsetBegin>37</CharacterOffsetBegin>\\r\\n            <CharacterOffsetEnd>42</CharacterOffsetEnd>\\r\\n            <POS>VB</POS>\\r\\n            <NER>O</NER>\\r\\n            <sentiment>Neutral</sentiment>\\r\\n          </token>\\r\\n          <token id=\"10\">\\r\\n            <word>about</word>\\r\\n            <lemma>about</lemma>\\r\\n            <CharacterOffsetBegin>43</CharacterOffsetBegin>\\r\\n            <CharacterOffsetEnd>48</CharacterOffsetEnd>\\r\\n            <POS>IN</POS>\\r\\n            <NER>O</NER>\\r\\n            <sentiment>Neutral</sentiment>\\r\\n          </token>\\r\\n          <token id=\"11\">\\r\\n            <word>suicide</word>\\r\\n            <lemma>suicide</lemma>\\r\\n            <CharacterOffsetBegin>49</CharacterOffsetBegin>\\r\\n            <CharacterOffsetEnd>56</CharacterOffsetEnd>\\r\\n            <POS>NN</POS>\\r\\n            <NER>O</NER>\\r\\n            <sentiment>Neutral</sentiment>\\r\\n          </token>\\r\\n          <token id=\"12\">\\r\\n            <word>a</word>\\r\\n            <lemma>a</lemma>\\r\\n            <CharacterOffsetBegin>57</CharacterOffsetBegin>\\r\\n            <CharacterOffsetEnd>58</CharacterOffsetEnd>\\r\\n            <POS>DT</POS>\\r\\n            <NER>O</NER>\\r\\n            <sentiment>Neutral</sentiment>\\r\\n          </token>\\r\\n          <token id=\"13\">\\r\\n            <word>lot</word>\\r\\n            <lemma>lot</lemma>\\r\\n            <CharacterOffsetBegin>59</CharacterOffsetBegin>\\r\\n            <CharacterOffsetEnd>62</CharacterOffsetEnd>\\r\\n            <POS>NN</POS>\\r\\n            <NER>O</NER>\\r\\n            <sentiment>Neutral</sentiment>\\r\\n          </token>\\r\\n          <token id=\"14\">\\r\\n            <word>.</word>\\r\\n            <lemma>.</lemma>\\r\\n            <CharacterOffsetBegin>62</CharacterOffsetBegin>\\r\\n            <CharacterOffsetEnd>63</CharacterOffsetEnd>\\r\\n            <POS>.</POS>\\r\\n            <NER>O</NER>\\r\\n            <sentiment>Neutral</sentiment>\\r\\n          </token>\\r\\n        </tokens>\\r\\n        <parse>(ROOT (S (NP (NN Zoloft)) (VP (VP (VBD fucked) (PRT (RP up)) (NP (PRP$ my) (NN dick))) (CC and) (VP (VBD made) (S (NP (PRP me)) (VP (VB think) (PP (IN about) (NP (NP (NN suicide)) (NP (DT a) (NN lot)))))))) (. .))) </parse>\\r\\n        <dependencies type=\"basic-dependencies\">\\r\\n          <dep type=\"root\">\\r\\n            <governor idx=\"0\">ROOT</governor>\\r\\n            <dependent idx=\"2\">fucked</dependent>\\r\\n          </dep>\\r\\n          <dep type=\"nsubj\">\\r\\n            <governor idx=\"2\">fucked</governor>\\r\\n            <dependent idx=\"1\">Zoloft</dependent>\\r\\n          </dep>\\r\\n          <dep type=\"compound:prt\">\\r\\n            <governor idx=\"2\">fucked</governor>\\r\\n            <dependent idx=\"3\">up</dependent>\\r\\n          </dep>\\r\\n          <dep type=\"nmod:poss\">\\r\\n            <governor idx=\"5\">dick</governor>\\r\\n            <dependent idx=\"4\">my</dependent>\\r\\n          </dep>\\r\\n          <dep type=\"dobj\">\\r\\n            <governor idx=\"2\">fucked</governor>\\r\\n            <dependent idx=\"5\">dick</dependent>\\r\\n          </dep>\\r\\n          <dep type=\"cc\">\\r\\n            <governor idx=\"2\">fucked</governor>\\r\\n            <dependent idx=\"6\">and</dependent>\\r\\n          </dep>\\r\\n          <dep type=\"conj\">\\r\\n            <governor idx=\"2\">fucked</governor>\\r\\n            <dependent idx=\"7\">made</dependent>\\r\\n          </dep>\\r\\n          <dep type=\"nsubj\">\\r\\n            <governor idx=\"9\">think</governor>\\r\\n            <dependent idx=\"8\">me</dependent>\\r\\n          </dep>\\r\\n          <dep type=\"ccomp\">\\r\\n            <governor idx=\"7\">made</governor>\\r\\n            <dependent idx=\"9\">think</dependent>\\r\\n          </dep>\\r\\n          <dep type=\"case\">\\r\\n            <governor idx=\"11\">suicide</governor>\\r\\n            <dependent idx=\"10\">about</dependent>\\r\\n          </dep>\\r\\n          <dep type=\"nmod\">\\r\\n            <governor idx=\"9\">think</governor>\\r\\n            <dependent idx=\"11\">suicide</dependent>\\r\\n          </dep>\\r\\n          <dep type=\"det\">\\r\\n            <governor idx=\"13\">lot</governor>\\r\\n            <dependent idx=\"12\">a</dependent>\\r\\n          </dep>\\r\\n          <dep type=\"dep\">\\r\\n            <governor idx=\"11\">suicide</governor>\\r\\n            <dependent idx=\"13\">lot</dependent>\\r\\n          </dep>\\r\\n          <dep type=\"punct\">\\r\\n            <governor idx=\"2\">fucked</governor>\\r\\n            <dependent idx=\"14\">.</dependent>\\r\\n          </dep>\\r\\n        </dependencies>\\r\\n        <dependencies type=\"collapsed-dependencies\">\\r\\n          <dep type=\"root\">\\r\\n            <governor idx=\"0\">ROOT</governor>\\r\\n            <dependent idx=\"2\">fucked</dependent>\\r\\n          </dep>\\r\\n          <dep type=\"nsubj\">\\r\\n            <governor idx=\"2\">fucked</governor>\\r\\n            <dependent idx=\"1\">Zoloft</dependent>\\r\\n          </dep>\\r\\n          <dep type=\"compound:prt\">\\r\\n            <governor idx=\"2\">fucked</governor>\\r\\n            <dependent idx=\"3\">up</dependent>\\r\\n          </dep>\\r\\n          <dep type=\"nmod:poss\">\\r\\n            <governor idx=\"5\">dick</governor>\\r\\n            <dependent idx=\"4\">my</dependent>\\r\\n          </dep>\\r\\n          <dep type=\"dobj\">\\r\\n            <governor idx=\"2\">fucked</governor>\\r\\n            <dependent idx=\"5\">dick</dependent>\\r\\n          </dep>\\r\\n          <dep type=\"cc\">\\r\\n            <governor idx=\"2\">fucked</governor>\\r\\n            <dependent idx=\"6\">and</dependent>\\r\\n          </dep>\\r\\n          <dep type=\"conj:and\">\\r\\n            <governor idx=\"2\">fucked</governor>\\r\\n            <dependent idx=\"7\">made</dependent>\\r\\n          </dep>\\r\\n          <dep type=\"nsubj\">\\r\\n            <governor idx=\"9\">think</governor>\\r\\n            <dependent idx=\"8\">me</dependent>\\r\\n          </dep>\\r\\n          <dep type=\"ccomp\">\\r\\n            <governor idx=\"7\">made</governor>\\r\\n            <dependent idx=\"9\">think</dependent>\\r\\n          </dep>\\r\\n          <dep type=\"case\">\\r\\n            <governor idx=\"11\">suicide</governor>\\r\\n            <dependent idx=\"10\">about</dependent>\\r\\n          </dep>\\r\\n          <dep type=\"nmod:about\">\\r\\n            <governor idx=\"9\">think</governor>\\r\\n            <dependent idx=\"11\">suicide</dependent>\\r\\n          </dep>\\r\\n          <dep type=\"det\">\\r\\n            <governor idx=\"13\">lot</governor>\\r\\n            <dependent idx=\"12\">a</dependent>\\r\\n          </dep>\\r\\n          <dep type=\"dep\">\\r\\n            <governor idx=\"11\">suicide</governor>\\r\\n            <dependent idx=\"13\">lot</dependent>\\r\\n          </dep>\\r\\n          <dep type=\"punct\">\\r\\n            <governor idx=\"2\">fucked</governor>\\r\\n            <dependent idx=\"14\">.</dependent>\\r\\n          </dep>\\r\\n        </dependencies>\\r\\n        <dependencies type=\"collapsed-ccprocessed-dependencies\">\\r\\n          <dep type=\"root\">\\r\\n            <governor idx=\"0\">ROOT</governor>\\r\\n            <dependent idx=\"2\">fucked</dependent>\\r\\n          </dep>\\r\\n          <dep type=\"nsubj\">\\r\\n            <governor idx=\"2\">fucked</governor>\\r\\n            <dependent idx=\"1\">Zoloft</dependent>\\r\\n          </dep>\\r\\n          <dep type=\"nsubj\" extra=\"true\">\\r\\n            <governor idx=\"7\">made</governor>\\r\\n            <dependent idx=\"1\">Zoloft</dependent>\\r\\n          </dep>\\r\\n          <dep type=\"compound:prt\">\\r\\n            <governor idx=\"2\">fucked</governor>\\r\\n            <dependent idx=\"3\">up</dependent>\\r\\n          </dep>\\r\\n          <dep type=\"nmod:poss\">\\r\\n            <governor idx=\"5\">dick</governor>\\r\\n            <dependent idx=\"4\">my</dependent>\\r\\n          </dep>\\r\\n          <dep type=\"dobj\">\\r\\n            <governor idx=\"2\">fucked</governor>\\r\\n            <dependent idx=\"5\">dick</dependent>\\r\\n          </dep>\\r\\n          <dep type=\"cc\">\\r\\n            <governor idx=\"2\">fucked</governor>\\r\\n            <dependent idx=\"6\">and</dependent>\\r\\n          </dep>\\r\\n          <dep type=\"conj:and\">\\r\\n            <governor idx=\"2\">fucked</governor>\\r\\n            <dependent idx=\"7\">made</dependent>\\r\\n          </dep>\\r\\n          <dep type=\"nsubj\">\\r\\n            <governor idx=\"9\">think</governor>\\r\\n            <dependent idx=\"8\">me</dependent>\\r\\n          </dep>\\r\\n          <dep type=\"ccomp\">\\r\\n            <governor idx=\"7\">made</governor>\\r\\n            <dependent idx=\"9\">think</dependent>\\r\\n          </dep>\\r\\n          <dep type=\"case\">\\r\\n            <governor idx=\"11\">suicide</governor>\\r\\n            <dependent idx=\"10\">about</dependent>\\r\\n          </dep>\\r\\n          <dep type=\"nmod:about\">\\r\\n            <governor idx=\"9\">think</governor>\\r\\n            <dependent idx=\"11\">suicide</dependent>\\r\\n          </dep>\\r\\n          <dep type=\"det\">\\r\\n            <governor idx=\"13\">lot</governor>\\r\\n            <dependent idx=\"12\">a</dependent>\\r\\n          </dep>\\r\\n          <dep type=\"dep\">\\r\\n            <governor idx=\"11\">suicide</governor>\\r\\n            <dependent idx=\"13\">lot</dependent>\\r\\n          </dep>\\r\\n          <dep type=\"punct\">\\r\\n            <governor idx=\"2\">fucked</governor>\\r\\n            <dependent idx=\"14\">.</dependent>\\r\\n          </dep>\\r\\n        </dependencies>\\r\\n      </sentence>\\r\\n      <sentence id=\"2\" sentimentValue=\"3\" sentiment=\"Positive\">\\r\\n        <tokens>\\r\\n          <token id=\"1\">\\r\\n            <word>Lexapro</word>\\r\\n            <lemma>Lexapro</lemma>\\r\\n            <CharacterOffsetBegin>64</CharacterOffsetBegin>\\r\\n            <CharacterOffsetEnd>71</CharacterOffsetEnd>\\r\\n            <POS>NNP</POS>\\r\\n            <NER>MISC</NER>\\r\\n            <sentiment>Neutral</sentiment>\\r\\n          </token>\\r\\n          <token id=\"2\">\\r\\n            <word>is</word>\\r\\n            <lemma>be</lemma>\\r\\n            <CharacterOffsetBegin>72</CharacterOffsetBegin>\\r\\n            <CharacterOffsetEnd>74</CharacterOffsetEnd>\\r\\n            <POS>VBZ</POS>\\r\\n            <NER>O</NER>\\r\\n            <sentiment>Neutral</sentiment>\\r\\n          </token>\\r\\n          <token id=\"3\">\\r\\n            <word>perfect</word>\\r\\n            <lemma>perfect</lemma>\\r\\n            <CharacterOffsetBegin>75</CharacterOffsetBegin>\\r\\n            <CharacterOffsetEnd>82</CharacterOffsetEnd>\\r\\n            <POS>JJ</POS>\\r\\n            <NER>O</NER>\\r\\n            <sentiment>Very positive</sentiment>\\r\\n          </token>\\r\\n          <token id=\"4\">\\r\\n            <word>.</word>\\r\\n            <lemma>.</lemma>\\r\\n            <CharacterOffsetBegin>82</CharacterOffsetBegin>\\r\\n            <CharacterOffsetEnd>83</CharacterOffsetEnd>\\r\\n            <POS>.</POS>\\r\\n            <NER>O</NER>\\r\\n            <sentiment>Neutral</sentiment>\\r\\n          </token>\\r\\n        </tokens>\\r\\n        <parse>(ROOT (S (NP (NNP Lexapro)) (VP (VBZ is) (ADJP (JJ perfect))) (. .))) </parse>\\r\\n        <dependencies type=\"basic-dependencies\">\\r\\n          <dep type=\"root\">\\r\\n            <governor idx=\"0\">ROOT</governor>\\r\\n            <dependent idx=\"3\">perfect</dependent>\\r\\n          </dep>\\r\\n          <dep type=\"nsubj\">\\r\\n            <governor idx=\"3\">perfect</governor>\\r\\n            <dependent idx=\"1\">Lexapro</dependent>\\r\\n          </dep>\\r\\n          <dep type=\"cop\">\\r\\n            <governor idx=\"3\">perfect</governor>\\r\\n            <dependent idx=\"2\">is</dependent>\\r\\n          </dep>\\r\\n          <dep type=\"punct\">\\r\\n            <governor idx=\"3\">perfect</governor>\\r\\n            <dependent idx=\"4\">.</dependent>\\r\\n          </dep>\\r\\n        </dependencies>\\r\\n        <dependencies type=\"collapsed-dependencies\">\\r\\n          <dep type=\"root\">\\r\\n            <governor idx=\"0\">ROOT</governor>\\r\\n            <dependent idx=\"3\">perfect</dependent>\\r\\n          </dep>\\r\\n          <dep type=\"nsubj\">\\r\\n            <governor idx=\"3\">perfect</governor>\\r\\n            <dependent idx=\"1\">Lexapro</dependent>\\r\\n          </dep>\\r\\n          <dep type=\"cop\">\\r\\n            <governor idx=\"3\">perfect</governor>\\r\\n            <dependent idx=\"2\">is</dependent>\\r\\n          </dep>\\r\\n          <dep type=\"punct\">\\r\\n            <governor idx=\"3\">perfect</governor>\\r\\n            <dependent idx=\"4\">.</dependent>\\r\\n          </dep>\\r\\n        </dependencies>\\r\\n        <dependencies type=\"collapsed-ccprocessed-dependencies\">\\r\\n          <dep type=\"root\">\\r\\n            <governor idx=\"0\">ROOT</governor>\\r\\n            <dependent idx=\"3\">perfect</dependent>\\r\\n          </dep>\\r\\n          <dep type=\"nsubj\">\\r\\n            <governor idx=\"3\">perfect</governor>\\r\\n            <dependent idx=\"1\">Lexapro</dependent>\\r\\n          </dep>\\r\\n          <dep type=\"cop\">\\r\\n            <governor idx=\"3\">perfect</governor>\\r\\n            <dependent idx=\"2\">is</dependent>\\r\\n          </dep>\\r\\n          <dep type=\"punct\">\\r\\n            <governor idx=\"3\">perfect</governor>\\r\\n            <dependent idx=\"4\">.</dependent>\\r\\n          </dep>\\r\\n        </dependencies>\\r\\n      </sentence>\\r\\n      <sentence id=\"3\" sentimentValue=\"4\" sentiment=\"Verypositive\">\\r\\n        <tokens>\\r\\n          <token id=\"1\">\\r\\n            <word>I</word>\\r\\n            <lemma>I</lemma>\\r\\n            <CharacterOffsetBegin>84</CharacterOffsetBegin>\\r\\n            <CharacterOffsetEnd>85</CharacterOffsetEnd>\\r\\n            <POS>PRP</POS>\\r\\n            <NER>O</NER>\\r\\n            <sentiment>Neutral</sentiment>\\r\\n          </token>\\r\\n          <token id=\"2\">\\r\\n            <word>feel</word>\\r\\n            <lemma>feel</lemma>\\r\\n            <CharacterOffsetBegin>86</CharacterOffsetBegin>\\r\\n            <CharacterOffsetEnd>90</CharacterOffsetEnd>\\r\\n            <POS>VBP</POS>\\r\\n            <NER>O</NER>\\r\\n            <sentiment>Neutral</sentiment>\\r\\n          </token>\\r\\n          <token id=\"3\">\\r\\n            <word>normal</word>\\r\\n            <lemma>normal</lemma>\\r\\n            <CharacterOffsetBegin>91</CharacterOffsetBegin>\\r\\n            <CharacterOffsetEnd>97</CharacterOffsetEnd>\\r\\n            <POS>JJ</POS>\\r\\n            <NER>O</NER>\\r\\n            <sentiment>Neutral</sentiment>\\r\\n          </token>\\r\\n          <token id=\"4\">\\r\\n            <word>and</word>\\r\\n            <lemma>and</lemma>\\r\\n            <CharacterOffsetBegin>98</CharacterOffsetBegin>\\r\\n            <CharacterOffsetEnd>101</CharacterOffsetEnd>\\r\\n            <POS>CC</POS>\\r\\n            <NER>O</NER>\\r\\n            <sentiment>Neutral</sentiment>\\r\\n          </token>\\r\\n          <token id=\"5\">\\r\\n            <word>wang</word>\\r\\n            <lemma>wang</lemma>\\r\\n            <CharacterOffsetBegin>102</CharacterOffsetBegin>\\r\\n            <CharacterOffsetEnd>106</CharacterOffsetEnd>\\r\\n            <POS>NN</POS>\\r\\n            <NER>O</NER>\\r\\n            <sentiment>Neutral</sentiment>\\r\\n          </token>\\r\\n          <token id=\"6\">\\r\\n            <word>works</word>\\r\\n            <lemma>work</lemma>\\r\\n            <CharacterOffsetBegin>107</CharacterOffsetBegin>\\r\\n            <CharacterOffsetEnd>112</CharacterOffsetEnd>\\r\\n            <POS>VBZ</POS>\\r\\n            <NER>O</NER>\\r\\n            <sentiment>Neutral</sentiment>\\r\\n          </token>\\r\\n          <token id=\"7\">\\r\\n            <word>very</word>\\r\\n            <lemma>very</lemma>\\r\\n            <CharacterOffsetBegin>113</CharacterOffsetBegin>\\r\\n            <CharacterOffsetEnd>117</CharacterOffsetEnd>\\r\\n            <POS>RB</POS>\\r\\n            <NER>O</NER>\\r\\n            <sentiment>Neutral</sentiment>\\r\\n          </token>\\r\\n          <token id=\"8\">\\r\\n            <word>well</word>\\r\\n            <lemma>well</lemma>\\r\\n            <CharacterOffsetBegin>118</CharacterOffsetBegin>\\r\\n            <CharacterOffsetEnd>122</CharacterOffsetEnd>\\r\\n            <POS>RB</POS>\\r\\n            <NER>O</NER>\\r\\n            <sentiment>Positive</sentiment>\\r\\n          </token>\\r\\n          <token id=\"9\">\\r\\n            <word>.</word>\\r\\n            <lemma>.</lemma>\\r\\n            <CharacterOffsetBegin>122</CharacterOffsetBegin>\\r\\n            <CharacterOffsetEnd>123</CharacterOffsetEnd>\\r\\n            <POS>.</POS>\\r\\n            <NER>O</NER>\\r\\n            <sentiment>Neutral</sentiment>\\r\\n          </token>\\r\\n        </tokens>\\r\\n        <parse>(ROOT (S (NP (PRP I)) (VP (VBP feel) (SBAR (S (NP (JJ normal) (CC and) (NN wang)) (VP (VBZ works) (ADVP (RB very) (RB well)))))) (. .))) </parse>\\r\\n        <dependencies type=\"basic-dependencies\">\\r\\n          <dep type=\"root\">\\r\\n            <governor idx=\"0\">ROOT</governor>\\r\\n            <dependent idx=\"2\">feel</dependent>\\r\\n          </dep>\\r\\n          <dep type=\"nsubj\">\\r\\n            <governor idx=\"2\">feel</governor>\\r\\n            <dependent idx=\"1\">I</dependent>\\r\\n          </dep>\\r\\n          <dep type=\"nsubj\">\\r\\n            <governor idx=\"6\">works</governor>\\r\\n            <dependent idx=\"3\">normal</dependent>\\r\\n          </dep>\\r\\n          <dep type=\"cc\">\\r\\n            <governor idx=\"3\">normal</governor>\\r\\n            <dependent idx=\"4\">and</dependent>\\r\\n          </dep>\\r\\n          <dep type=\"conj\">\\r\\n            <governor idx=\"3\">normal</governor>\\r\\n            <dependent idx=\"5\">wang</dependent>\\r\\n          </dep>\\r\\n          <dep type=\"ccomp\">\\r\\n            <governor idx=\"2\">feel</governor>\\r\\n            <dependent idx=\"6\">works</dependent>\\r\\n          </dep>\\r\\n          <dep type=\"advmod\">\\r\\n            <governor idx=\"8\">well</governor>\\r\\n            <dependent idx=\"7\">very</dependent>\\r\\n          </dep>\\r\\n          <dep type=\"advmod\">\\r\\n            <governor idx=\"6\">works</governor>\\r\\n            <dependent idx=\"8\">well</dependent>\\r\\n          </dep>\\r\\n          <dep type=\"punct\">\\r\\n            <governor idx=\"2\">feel</governor>\\r\\n            <dependent idx=\"9\">.</dependent>\\r\\n          </dep>\\r\\n        </dependencies>\\r\\n        <dependencies type=\"collapsed-dependencies\">\\r\\n          <dep type=\"root\">\\r\\n            <governor idx=\"0\">ROOT</governor>\\r\\n            <dependent idx=\"2\">feel</dependent>\\r\\n          </dep>\\r\\n          <dep type=\"nsubj\">\\r\\n            <governor idx=\"2\">feel</governor>\\r\\n            <dependent idx=\"1\">I</dependent>\\r\\n          </dep>\\r\\n          <dep type=\"nsubj\">\\r\\n            <governor idx=\"6\">works</governor>\\r\\n            <dependent idx=\"3\">normal</dependent>\\r\\n          </dep>\\r\\n          <dep type=\"cc\">\\r\\n            <governor idx=\"3\">normal</governor>\\r\\n            <dependent idx=\"4\">and</dependent>\\r\\n          </dep>\\r\\n          <dep type=\"conj:and\">\\r\\n            <governor idx=\"3\">normal</governor>\\r\\n            <dependent idx=\"5\">wang</dependent>\\r\\n          </dep>\\r\\n          <dep type=\"ccomp\">\\r\\n            <governor idx=\"2\">feel</governor>\\r\\n            <dependent idx=\"6\">works</dependent>\\r\\n          </dep>\\r\\n          <dep type=\"advmod\">\\r\\n            <governor idx=\"8\">well</governor>\\r\\n            <dependent idx=\"7\">very</dependent>\\r\\n          </dep>\\r\\n          <dep type=\"advmod\">\\r\\n            <governor idx=\"6\">works</governor>\\r\\n            <dependent idx=\"8\">well</dependent>\\r\\n          </dep>\\r\\n          <dep type=\"punct\">\\r\\n            <governor idx=\"2\">feel</governor>\\r\\n            <dependent idx=\"9\">.</dependent>\\r\\n          </dep>\\r\\n        </dependencies>\\r\\n        <dependencies type=\"collapsed-ccprocessed-dependencies\">\\r\\n          <dep type=\"root\">\\r\\n            <governor idx=\"0\">ROOT</governor>\\r\\n            <dependent idx=\"2\">feel</dependent>\\r\\n          </dep>\\r\\n          <dep type=\"nsubj\">\\r\\n            <governor idx=\"2\">feel</governor>\\r\\n            <dependent idx=\"1\">I</dependent>\\r\\n          </dep>\\r\\n          <dep type=\"nsubj\">\\r\\n            <governor idx=\"6\">works</governor>\\r\\n            <dependent idx=\"3\">normal</dependent>\\r\\n          </dep>\\r\\n          <dep type=\"cc\">\\r\\n            <governor idx=\"3\">normal</governor>\\r\\n            <dependent idx=\"4\">and</dependent>\\r\\n          </dep>\\r\\n          <dep type=\"conj:and\">\\r\\n            <governor idx=\"3\">normal</governor>\\r\\n            <dependent idx=\"5\">wang</dependent>\\r\\n          </dep>\\r\\n          <dep type=\"nsubj\" extra=\"true\">\\r\\n            <governor idx=\"6\">works</governor>\\r\\n            <dependent idx=\"5\">wang</dependent>\\r\\n          </dep>\\r\\n          <dep type=\"ccomp\">\\r\\n            <governor idx=\"2\">feel</governor>\\r\\n            <dependent idx=\"6\">works</dependent>\\r\\n          </dep>\\r\\n          <dep type=\"advmod\">\\r\\n            <governor idx=\"8\">well</governor>\\r\\n            <dependent idx=\"7\">very</dependent>\\r\\n          </dep>\\r\\n          <dep type=\"advmod\">\\r\\n            <governor idx=\"6\">works</governor>\\r\\n            <dependent idx=\"8\">well</dependent>\\r\\n          </dep>\\r\\n          <dep type=\"punct\">\\r\\n            <governor idx=\"2\">feel</governor>\\r\\n            <dependent idx=\"9\">.</dependent>\\r\\n          </dep>\\r\\n        </dependencies>\\r\\n      </sentence>\\r\\n    </sentences>\\r\\n  </document>\\r\\n</root>\\r\\n'"
       ]
      }
     ],
     "prompt_number": 67
    },
    {
     "cell_type": "markdown",
     "metadata": {},
     "source": [
      "giving us an ugly-ass XML string.  the (pretty hacked-together) corenlp_xml package lets us read it though."
     ]
    },
    {
     "cell_type": "code",
     "collapsed": false,
     "input": [
      "doc = Document(xml)"
     ],
     "language": "python",
     "metadata": {},
     "outputs": [],
     "prompt_number": 68
    },
    {
     "cell_type": "code",
     "collapsed": false,
     "input": [
      "sent = doc.sentences[0]"
     ],
     "language": "python",
     "metadata": {},
     "outputs": [],
     "prompt_number": 75
    },
    {
     "cell_type": "code",
     "collapsed": false,
     "input": [
      "sent.parse_string"
     ],
     "language": "python",
     "metadata": {},
     "outputs": [
      {
       "metadata": {},
       "output_type": "pyout",
       "prompt_number": 76,
       "text": [
        "'(ROOT (S (NP (NN Zoloft)) (VP (VP (VBD fucked) (PRT (RP up)) (NP (PRP$ my) (NN dick))) (CC and) (VP (VBD made) (S (NP (PRP me)) (VP (VB think) (PP (IN about) (NP (NP (NN suicide)) (NP (DT a) (NN lot)))))))) (. .))) '"
       ]
      }
     ],
     "prompt_number": 76
    },
    {
     "cell_type": "markdown",
     "metadata": {},
     "source": [
      "giving us the tree structure parsed into a string form."
     ]
    },
    {
     "cell_type": "code",
     "collapsed": false,
     "input": [
      "sent.parse"
     ],
     "language": "python",
     "metadata": {},
     "outputs": [
      {
       "ename": "AttributeError",
       "evalue": "type object 'Tree' has no attribute 'parse'",
       "output_type": "pyerr",
       "traceback": [
        "\u001b[0;31m---------------------------------------------------------------------------\u001b[0m\n\u001b[0;31mAttributeError\u001b[0m                            Traceback (most recent call last)",
        "\u001b[0;32m<ipython-input-77-262815b3baa4>\u001b[0m in \u001b[0;36m<module>\u001b[0;34m()\u001b[0m\n\u001b[0;32m----> 1\u001b[0;31m \u001b[0msent\u001b[0m\u001b[0;34m.\u001b[0m\u001b[0mparse\u001b[0m\u001b[0;34m\u001b[0m\u001b[0m\n\u001b[0m",
        "\u001b[0;32m/usr/local/lib/python2.7/dist-packages/corenlp_xml/document.py\u001b[0m in \u001b[0;36mparse\u001b[0;34m(self)\u001b[0m\n\u001b[1;32m    241\u001b[0m         \"\"\"\n\u001b[1;32m    242\u001b[0m         \u001b[0;32mif\u001b[0m \u001b[0mself\u001b[0m\u001b[0;34m.\u001b[0m\u001b[0mparse_string\u001b[0m \u001b[0;32mis\u001b[0m \u001b[0;32mnot\u001b[0m \u001b[0mNone\u001b[0m \u001b[0;32mand\u001b[0m \u001b[0mself\u001b[0m\u001b[0;34m.\u001b[0m\u001b[0m_parse\u001b[0m \u001b[0;32mis\u001b[0m \u001b[0mNone\u001b[0m\u001b[0;34m:\u001b[0m\u001b[0;34m\u001b[0m\u001b[0m\n\u001b[0;32m--> 243\u001b[0;31m             \u001b[0mself\u001b[0m\u001b[0;34m.\u001b[0m\u001b[0m_parse\u001b[0m \u001b[0;34m=\u001b[0m \u001b[0mTree\u001b[0m\u001b[0;34m.\u001b[0m\u001b[0mparse\u001b[0m\u001b[0;34m(\u001b[0m\u001b[0mself\u001b[0m\u001b[0;34m.\u001b[0m\u001b[0m_parse_string\u001b[0m\u001b[0;34m)\u001b[0m\u001b[0;34m\u001b[0m\u001b[0m\n\u001b[0m\u001b[1;32m    244\u001b[0m         \u001b[0;32mreturn\u001b[0m \u001b[0mself\u001b[0m\u001b[0;34m.\u001b[0m\u001b[0m_parse\u001b[0m\u001b[0;34m\u001b[0m\u001b[0m\n\u001b[1;32m    245\u001b[0m \u001b[0;34m\u001b[0m\u001b[0m\n",
        "\u001b[0;31mAttributeError\u001b[0m: type object 'Tree' has no attribute 'parse'"
       ]
      }
     ],
     "prompt_number": 77
    },
    {
     "cell_type": "markdown",
     "metadata": {},
     "source": [
      "there's some problems with the package though (I suspect it's written for an older version of the coreNLP java project)."
     ]
    },
    {
     "cell_type": "code",
     "collapsed": false,
     "input": [
      "sent.sentiment"
     ],
     "language": "python",
     "metadata": {},
     "outputs": [
      {
       "metadata": {},
       "output_type": "pyout",
       "prompt_number": 78,
       "text": [
        "'Negative'"
       ]
      }
     ],
     "prompt_number": 78
    },
    {
     "cell_type": "markdown",
     "metadata": {},
     "source": [
      "this took some hacking, the module was originally trying to assign an integer value to it, but the stanford output is an enumerated string value (positive, negative, neutral)."
     ]
    },
    {
     "cell_type": "markdown",
     "metadata": {},
     "source": [
      "We can parse the string into an nltk tree, though:"
     ]
    },
    {
     "cell_type": "code",
     "collapsed": false,
     "input": [
      "tree = nltk.tree.ParentedTree.fromstring(sent.parse_string)"
     ],
     "language": "python",
     "metadata": {},
     "outputs": [],
     "prompt_number": 79
    },
    {
     "cell_type": "code",
     "collapsed": false,
     "input": [
      "tree.pretty_print()"
     ],
     "language": "python",
     "metadata": {},
     "outputs": [
      {
       "output_type": "stream",
       "stream": "stdout",
       "text": [
        "                                    ROOT                                            \n",
        "                                     |                                               \n",
        "                                     S                                              \n",
        "   __________________________________|____________________________________________   \n",
        "  |                                  VP                                           | \n",
        "  |             _____________________|____                                        |  \n",
        "  |            |                 |        VP                                      | \n",
        "  |            |                 |    ____|__________                             |  \n",
        "  |            |                 |   |               S                            | \n",
        "  |            |                 |   |     __________|______                      |  \n",
        "  |            |                 |   |    |                 VP                    | \n",
        "  |            |                 |   |    |     ____________|_____                |  \n",
        "  |            |                 |   |    |    |                  PP              | \n",
        "  |            |                 |   |    |    |      ____________|___            |  \n",
        "  |            VP                |   |    |    |     |                NP          | \n",
        "  |       _____|________         |   |    |    |     |       _________|___        |  \n",
        "  NP     |    PRT       NP       |   |    NP   |     |      NP            NP      | \n",
        "  |      |     |    ____|___     |   |    |    |     |      |          ___|___    |  \n",
        "  NN    VBD    RP PRP$      NN   CC VBD  PRP   VB    IN     NN        DT      NN  . \n",
        "  |      |     |   |        |    |   |    |    |     |      |         |       |   |  \n",
        "Zoloft fucked  up  my      dick and made  me think about suicide      a      lot  . \n",
        "\n"
       ]
      }
     ],
     "prompt_number": 80
    },
    {
     "cell_type": "markdown",
     "metadata": {},
     "source": [
      "so we have an NLTK tree structure for the sentence!  Now what to do with it..."
     ]
    },
    {
     "cell_type": "code",
     "collapsed": false,
     "input": [
      "tree.leaves()"
     ],
     "language": "python",
     "metadata": {},
     "outputs": []
    },
    {
     "cell_type": "code",
     "collapsed": false,
     "input": [
      "for sub in tree.subtrees():\n",
      "    print sub.parent_index()"
     ],
     "language": "python",
     "metadata": {},
     "outputs": []
    },
    {
     "cell_type": "code",
     "collapsed": false,
     "input": [
      "for sub in tree.subtrees():\n",
      "    if sub.parent_index() == 2:\n",
      "        print sub.pretty_print()"
     ],
     "language": "python",
     "metadata": {},
     "outputs": []
    },
    {
     "cell_type": "markdown",
     "metadata": {},
     "source": [
      "not sure what how the indexing here works..."
     ]
    },
    {
     "cell_type": "code",
     "collapsed": false,
     "input": [
      "tree.subtrees()"
     ],
     "language": "python",
     "metadata": {},
     "outputs": []
    },
    {
     "cell_type": "markdown",
     "metadata": {},
     "source": [
      "let's work on something simpler."
     ]
    },
    {
     "cell_type": "code",
     "collapsed": false,
     "input": [
      "sent = doc.sentences[0]"
     ],
     "language": "python",
     "metadata": {},
     "outputs": []
    },
    {
     "cell_type": "code",
     "collapsed": false,
     "input": [
      "sent.parse_string"
     ],
     "language": "python",
     "metadata": {},
     "outputs": []
    },
    {
     "cell_type": "code",
     "collapsed": false,
     "input": [
      "tree = nltk.tree.ParentedTree.fromstring(sent.parse_string)"
     ],
     "language": "python",
     "metadata": {},
     "outputs": []
    },
    {
     "cell_type": "code",
     "collapsed": false,
     "input": [
      "tree.pretty_print()"
     ],
     "language": "python",
     "metadata": {},
     "outputs": []
    },
    {
     "cell_type": "code",
     "collapsed": false,
     "input": [
      "for sub in tree.subtrees():\n",
      "    print(\"parent index %s\" % sub.parent_index())\n",
      "    print sub.pretty_print()"
     ],
     "language": "python",
     "metadata": {},
     "outputs": []
    },
    {
     "cell_type": "markdown",
     "metadata": {},
     "source": [
      "so <code>parent_index</code> refers to its position relative to its parent node, not the level of its parent node."
     ]
    },
    {
     "cell_type": "code",
     "collapsed": false,
     "input": [
      "tree.height()"
     ],
     "language": "python",
     "metadata": {},
     "outputs": []
    },
    {
     "cell_type": "markdown",
     "metadata": {},
     "source": [
      "this is too complex to automate extracting, I think...  or is it?  tree.height... find the highest height that contains a single drug mention!"
     ]
    },
    {
     "cell_type": "code",
     "collapsed": false,
     "input": [
      "tree.pretty_print()"
     ],
     "language": "python",
     "metadata": {},
     "outputs": []
    },
    {
     "cell_type": "code",
     "collapsed": false,
     "input": [
      "for sub in tree.subtrees():\n",
      "    if 'Wellbutrin' in sub.leaves():\n",
      "        print sub.height()\n",
      "        print sub.pretty_print()"
     ],
     "language": "python",
     "metadata": {},
     "outputs": []
    },
    {
     "cell_type": "code",
     "collapsed": false,
     "input": [
      "for sub in tree.subtrees(filter=lambda tr: tr.height() == 6):\n",
      "    print sub.pretty_print()"
     ],
     "language": "python",
     "metadata": {},
     "outputs": []
    },
    {
     "cell_type": "markdown",
     "metadata": {},
     "source": [
      "so we can filter for tree height in the subtrees.  Let's see if we can find an efficient way to return the max-height subtrees that contain one or no drug mentions."
     ]
    },
    {
     "cell_type": "code",
     "collapsed": false,
     "input": [
      "def get_children(tree):\n",
      "    if tree.height() == 0:\n",
      "        return None\n",
      "    else:\n",
      "        return [sub for sub in tree.subtrees(filter = lambda tr: tr.height() == tree.height()-1)]"
     ],
     "language": "python",
     "metadata": {},
     "outputs": [],
     "prompt_number": 65
    },
    {
     "cell_type": "code",
     "collapsed": false,
     "input": [
      "get_children(tree)"
     ],
     "language": "python",
     "metadata": {},
     "outputs": [
      {
       "ename": "NameError",
       "evalue": "name 'tree' is not defined",
       "output_type": "pyerr",
       "traceback": [
        "\u001b[0;31m---------------------------------------------------------------------------\u001b[0m\n\u001b[0;31mNameError\u001b[0m                                 Traceback (most recent call last)",
        "\u001b[0;32m<ipython-input-66-2e9e5c7d8def>\u001b[0m in \u001b[0;36m<module>\u001b[0;34m()\u001b[0m\n\u001b[0;32m----> 1\u001b[0;31m \u001b[0mget_children\u001b[0m\u001b[0;34m(\u001b[0m\u001b[0mtree\u001b[0m\u001b[0;34m)\u001b[0m\u001b[0;34m\u001b[0m\u001b[0m\n\u001b[0m",
        "\u001b[0;31mNameError\u001b[0m: name 'tree' is not defined"
       ]
      }
     ],
     "prompt_number": 66
    },
    {
     "cell_type": "code",
     "collapsed": false,
     "input": [
      "for tr in get_children(tree):\n",
      "    print tr.height()\n",
      "    print tr.pretty_print()"
     ],
     "language": "python",
     "metadata": {},
     "outputs": []
    },
    {
     "cell_type": "code",
     "collapsed": false,
     "input": [
      "tree = get_children(tree)[0]"
     ],
     "language": "python",
     "metadata": {},
     "outputs": []
    },
    {
     "cell_type": "code",
     "collapsed": false,
     "input": [
      "tree.pretty_print()"
     ],
     "language": "python",
     "metadata": {},
     "outputs": []
    },
    {
     "cell_type": "code",
     "collapsed": false,
     "input": [
      "for tr in tree.subtrees():\n",
      "    print tr.height()\n",
      "    print tr.pretty_print()"
     ],
     "language": "python",
     "metadata": {},
     "outputs": []
    },
    {
     "cell_type": "code",
     "collapsed": false,
     "input": [
      "for tr in get_children(get_children(tree)[0]):\n",
      "    print tr.height()\n",
      "    print tr.pretty_print()"
     ],
     "language": "python",
     "metadata": {},
     "outputs": []
    },
    {
     "cell_type": "code",
     "collapsed": false,
     "input": [
      "tree.pretty_print()"
     ],
     "language": "python",
     "metadata": {},
     "outputs": []
    },
    {
     "cell_type": "code",
     "collapsed": false,
     "input": [
      "tree.pop(0)"
     ],
     "language": "python",
     "metadata": {},
     "outputs": []
    },
    {
     "cell_type": "code",
     "collapsed": false,
     "input": [
      "tree.pretty_print()"
     ],
     "language": "python",
     "metadata": {},
     "outputs": []
    },
    {
     "cell_type": "code",
     "collapsed": false,
     "input": [
      "tree2 = tree.pop(0)"
     ],
     "language": "python",
     "metadata": {},
     "outputs": []
    },
    {
     "cell_type": "code",
     "collapsed": false,
     "input": [
      "tree2.pretty_print()"
     ],
     "language": "python",
     "metadata": {},
     "outputs": []
    },
    {
     "cell_type": "code",
     "collapsed": false,
     "input": [
      "tree2.pos()"
     ],
     "language": "python",
     "metadata": {},
     "outputs": []
    },
    {
     "cell_type": "code",
     "collapsed": false,
     "input": [
      "trees = []\n",
      "while True:\n",
      "    try:\n",
      "        trees.append(tree2.pop(0))\n",
      "    except:\n",
      "        break"
     ],
     "language": "python",
     "metadata": {},
     "outputs": []
    },
    {
     "cell_type": "code",
     "collapsed": false,
     "input": [
      "trees"
     ],
     "language": "python",
     "metadata": {},
     "outputs": []
    },
    {
     "cell_type": "code",
     "collapsed": false,
     "input": [
      "len(trees)"
     ],
     "language": "python",
     "metadata": {},
     "outputs": []
    },
    {
     "cell_type": "markdown",
     "metadata": {},
     "source": [
      "ok, I think this is the method to go with.  Recursively pop child trees from each level, filter punctuation, return subtrees that contain one or none of the mentions."
     ]
    },
    {
     "cell_type": "code",
     "collapsed": false,
     "input": [
      "drugs = ['Wellbutrin','Celexa']"
     ],
     "language": "python",
     "metadata": {},
     "outputs": []
    },
    {
     "cell_type": "code",
     "collapsed": false,
     "input": [
      "tree = nltk.tree.ParentedTree.fromstring(sent.parse_string)"
     ],
     "language": "python",
     "metadata": {},
     "outputs": []
    },
    {
     "cell_type": "code",
     "collapsed": false,
     "input": [
      "tree.pretty_print()"
     ],
     "language": "python",
     "metadata": {},
     "outputs": []
    },
    {
     "cell_type": "code",
     "collapsed": false,
     "input": [
      "def splitter(tree,drugs):\n",
      "    print tree.leaves()\n",
      "    contains = [drug in tree.leaves() for drug in drugs]\n",
      "    if sum(contains) == 0 or sum(contains) == 1:\n",
      "        return tree\n",
      "    else:\n",
      "        trees = []\n",
      "        while True:\n",
      "            try:\n",
      "                subtree = tree.pop(0)\n",
      "                trees.append(splitter(subtree,drugs))\n",
      "            except:\n",
      "                print trees\n",
      "                break\n",
      "        return trees"
     ],
     "language": "python",
     "metadata": {},
     "outputs": []
    },
    {
     "cell_type": "code",
     "collapsed": false,
     "input": [
      "subs = splitter(tree,drugs)"
     ],
     "language": "python",
     "metadata": {},
     "outputs": []
    },
    {
     "cell_type": "markdown",
     "metadata": {},
     "source": [
      "to do: flatten method, check recursion -- does it put the trees in in any sort of logical order?  assign no-drug text blocks to general use, or last mentioned drug?  Sentiment from java, or supervise naive bayes to get value?"
     ]
    },
    {
     "cell_type": "code",
     "collapsed": false,
     "input": [
      "subs"
     ],
     "language": "python",
     "metadata": {},
     "outputs": []
    },
    {
     "cell_type": "code",
     "collapsed": false,
     "input": [
      "subs[0]"
     ],
     "language": "python",
     "metadata": {},
     "outputs": []
    },
    {
     "cell_type": "code",
     "collapsed": false,
     "input": [
      "for sub in subs[0]:\n",
      "    print sub.pretty_print()"
     ],
     "language": "python",
     "metadata": {},
     "outputs": []
    },
    {
     "cell_type": "code",
     "collapsed": false,
     "input": [
      "def flatten(container):\n",
      "    for i in container:\n",
      "        if not isinstance(i, nltk.tree.ParentedTree):\n",
      "            for j in flatten(i):\n",
      "                yield j\n",
      "        else:\n",
      "            yield i"
     ],
     "language": "python",
     "metadata": {},
     "outputs": []
    },
    {
     "cell_type": "code",
     "collapsed": false,
     "input": [
      "list(flatten(subs))"
     ],
     "language": "python",
     "metadata": {},
     "outputs": []
    },
    {
     "cell_type": "code",
     "collapsed": false,
     "input": [
      "for i in list(flatten(subs)):\n",
      "    print i.pretty_print()"
     ],
     "language": "python",
     "metadata": {},
     "outputs": []
    },
    {
     "cell_type": "markdown",
     "metadata": {},
     "source": [
      "so the flattener works as desired!  We've got a working semantic chunker that returns maximum-size chunks with 1 or 0 mentions of the drugs in question."
     ]
    },
    {
     "cell_type": "code",
     "collapsed": false,
     "input": [],
     "language": "python",
     "metadata": {},
     "outputs": []
    }
   ],
   "metadata": {}
  }
 ]
}